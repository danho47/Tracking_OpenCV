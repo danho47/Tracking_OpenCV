{
 "cells": [
  {
   "cell_type": "markdown",
   "metadata": {},
   "source": [
    "# Visual Tracking using OpenCV"
   ]
  },
  {
   "cell_type": "markdown",
   "metadata": {},
   "source": [
    "## Data sets : Visual Tracker Benchmark [ http://www.visual-tracking.net ] (VOT2015)\n"
   ]
  },
  {
   "cell_type": "markdown",
   "metadata": {},
   "source": [
    "# Bolt2 DEF, BC\n",
    "<img src=\"./img/0001.jpg\"> "
   ]
  },
  {
   "cell_type": "code",
   "execution_count": 1,
   "metadata": {},
   "outputs": [],
   "source": [
    "import cv2\n",
    "import cv2\n",
    "import numpy as np\n",
    "import pandas as pd\n",
    "from PIL import Image\n",
    "import sys\n",
    "from imutils.video import VideoStream\n",
    "from imutils.video import FPS\n",
    "import argparse\n",
    "import imutils\n",
    "import time\n",
    "import matplotlib.pyplot as plt\n",
    "from IPython import display\n",
    "%matplotlib inline"
   ]
  },
  {
   "cell_type": "code",
   "execution_count": 2,
   "metadata": {},
   "outputs": [],
   "source": [
    "X_csrt = []\n",
    "y_csrt = []\n",
    "w_csrt = []\n",
    "h_csrt = []\n",
    "\n",
    "X_kcf = []\n",
    "y_kcf = []\n",
    "w_kcf = []\n",
    "h_kcf = []\n",
    "\n",
    "X_boosting = []\n",
    "y_boosting = []\n",
    "w_boosting = []\n",
    "h_boosting = []\n",
    "\n",
    "X_mf = []\n",
    "y_mf = []\n",
    "w_mf = []\n",
    "h_mf = []\n",
    "\n",
    "X_mil = []\n",
    "y_mil = []\n",
    "w_mil = []\n",
    "h_mil = []\n",
    "\n",
    "X_tld = []\n",
    "y_tld = []\n",
    "w_tld = []\n",
    "h_tld = []"
   ]
  },
  {
   "cell_type": "code",
   "execution_count": 3,
   "metadata": {},
   "outputs": [
    {
     "data": {
      "text/plain": [
       "-1"
      ]
     },
     "execution_count": 3,
     "metadata": {},
     "output_type": "execute_result"
    }
   ],
   "source": [
    "#Video Capture\n",
    "cap = cv2.VideoCapture('./img/%04d.jpg')\n",
    "cap.set(cv2.CAP_PROP_FPS, 30)\n",
    "#Trackerのインスタンス生成\n",
    "CSRT = cv2.TrackerCSRT_create()\n",
    "KCF = cv2.TrackerKCF_create()\n",
    "Boosting = cv2.TrackerBoosting_create()\n",
    "MedianFlow = cv2.TrackerMedianFlow_create()\n",
    "MIL = cv2.TrackerMIL_create()\n",
    "TLD = cv2.TrackerTLD_create()\n",
    "\n",
    "BB_CSRT = None\n",
    "BB_KCF = None\n",
    "BB_Boosting = None\n",
    "BB_MF = None\n",
    "BB_MIL = None\n",
    "BB_TLD = None\n",
    "\n",
    "while True:\n",
    "    \n",
    "    try:\n",
    "        ok, frame = cap.read()\n",
    "        (H, W) = frame[:2]\n",
    "        \n",
    "# BoundingBoxの初期値(Ground-Truth)\n",
    "\n",
    "\n",
    "\n",
    "        BB_CSRT = (269,75,34,64)\n",
    "        BB_KCF = (269,75,34,64)\n",
    "        BB_Boosting = (269,75,34,64)\n",
    "        BB_MF = (269,75,34,64)\n",
    "        BB_MIL = (269,75,34,64)\n",
    "        BB_TLD = (269,75,34,64)\n",
    "\n",
    "        CSRT.init(frame, BB_CSRT)\n",
    "        KCF.init(frame, BB_KCF)\n",
    "        Boosting.init(frame, BB_Boosting)\n",
    "        MedianFlow.init(frame, BB_MF)\n",
    "        MIL.init(frame, BB_MIL)\n",
    "        TLD.init(frame, BB_TLD)\n",
    "        \n",
    "        if BB_CSRT is not None:\n",
    "            (success, box) = CSRT.update(frame)\n",
    "        \n",
    "            if success:\n",
    "                (x, y, w, h) = [int(v) for v in box]\n",
    "                cv2.rectangle(frame, (x, y), (x + w, y + h),(0, 255, 0), 2) #Green\n",
    "                X_csrt.append(x)\n",
    "                y_csrt.append(y)\n",
    "                w_csrt.append(w)\n",
    "                h_csrt.append(h)\n",
    "\n",
    "                \n",
    "        if BB_KCF is not None:\n",
    "            (success1, box) = KCF.update(frame)\n",
    "        \n",
    "            if success1:\n",
    "                (x, y, w, h) = [int(v) for v in box]\n",
    "                cv2.rectangle(frame, (x, y), (x + w, y + h),(255, 0, 0), 2)  #Blue\n",
    "                X_kcf.append(x)\n",
    "                y_kcf.append(y)\n",
    "                w_kcf.append(w)\n",
    "                h_kcf.append(h)\n",
    "\n",
    "                \n",
    "        if BB_Boosting is not None:\n",
    "            (success2, box) = Boosting.update(frame)\n",
    "        \n",
    "            if success2:\n",
    "                (x, y, w, h) = [int(v) for v in box]\n",
    "                cv2.rectangle(frame, (x, y), (x + w, y + h),(0, 0, 255), 2) #Red\n",
    "                X_boosting.append(x)\n",
    "                y_boosting.append(y)\n",
    "                w_boosting.append(w)\n",
    "                h_boosting.append(h)\n",
    "                \n",
    "        if BB_MF is not None:\n",
    "            (success3, box) = MedianFlow.update(frame)\n",
    "        \n",
    "            if success3:\n",
    "                (x, y, w, h) = [int(v) for v in box]\n",
    "                cv2.rectangle(frame, (x, y), (x + w, y + h),(255, 255, 0), 2)   #LightBlue\n",
    "                X_mf.append(x)\n",
    "                y_mf.append(y)\n",
    "                w_mf.append(w)\n",
    "                h_mf.append(h)\n",
    "                \n",
    "        if BB_MIL is not None:\n",
    "            (success4, box) = MIL.update(frame)\n",
    "        \n",
    "            if success4:\n",
    "                (x, y, w, h) = [int(v) for v in box]\n",
    "                cv2.rectangle(frame, (x, y), (x + w, y + h),(0, 255, 255), 2)   #Yellow\n",
    "                X_mil.append(x)\n",
    "                y_mil.append(y)\n",
    "                w_mil.append(w)\n",
    "                h_mil.append(h)\n",
    "                \n",
    "        if BB_TLD is not None:\n",
    "            (success5, box) = TLD.update(frame)\n",
    "        \n",
    "            if success5:\n",
    "                (x, y, w, h) = [int(v) for v in box]\n",
    "                cv2.rectangle(frame, (x, y), (x + w, y + h),(255, 0, 255), 2)   #Pink\n",
    "                X_tld.append(x)\n",
    "                y_tld.append(y)\n",
    "                w_tld.append(w)\n",
    "                h_tld.append(h)\n",
    "                \n",
    "        cv2.imshow(\"Frame\",frame)\n",
    "        \n",
    "        if cv2.waitKey(10) == ord('q'):break\n",
    "    except:\n",
    "        break        \n",
    "\n",
    "cv2.destroyAllWindows()\n",
    "cv2.waitKey(1)"
   ]
  },
  {
   "cell_type": "code",
   "execution_count": 4,
   "metadata": {},
   "outputs": [
    {
     "name": "stdout",
     "output_type": "stream",
     "text": [
      "25.0\n"
     ]
    }
   ],
   "source": [
    "print(cap.get(cv2.CAP_PROP_FPS))"
   ]
  },
  {
   "cell_type": "markdown",
   "metadata": {},
   "source": [
    "## CSRT(Channel and Spetial Reliability Tracking) Tracker"
   ]
  },
  {
   "cell_type": "code",
   "execution_count": 16,
   "metadata": {},
   "outputs": [
    {
     "name": "stdout",
     "output_type": "stream",
     "text": [
      "False : 0\n"
     ]
    }
   ],
   "source": [
    "#Video Capture\n",
    "cap = cv2.VideoCapture('./img/%04d.jpg')\n",
    "#Trackerのインスタンス生成\n",
    "CSRT = cv2.TrackerCSRT_create()\n",
    "X_csrt = []\n",
    "y_csrt = []\n",
    "w_csrt = []\n",
    "h_csrt = []\n",
    "\n",
    "BB_CSRT = None\n",
    "count = 0\n",
    "while True:\n",
    "    \n",
    "    try:\n",
    "        ok, frame = cap.read()\n",
    "        (H, W) = frame[:2]\n",
    "        \n",
    "# BoundingBoxの初期値(Ground-Truth)\n",
    "\n",
    "        BB_CSRT = (269,75,34,64)\n",
    "\n",
    "        CSRT.init(frame, BB_CSRT)\n",
    "        \n",
    "        if BB_CSRT is not None:\n",
    "            (success, box) = CSRT.update(frame)\n",
    "        \n",
    "            if success:\n",
    "                (x, y, w, h) = [int(v) for v in box]\n",
    "                cv2.rectangle(frame, (x, y), (x + w, y + h),(0, 255, 0), 2) #Green\n",
    "                X_csrt.append(x)\n",
    "                y_csrt.append(y)\n",
    "                w_csrt.append(w)\n",
    "                h_csrt.append(h)\n",
    "            else:\n",
    "                count += 1\n",
    "                \n",
    "        cv2.imshow(\"Frame\",frame)\n",
    "        \n",
    "        if cv2.waitKey(10) == ord('q'):break\n",
    "    except:\n",
    "        break        \n",
    "\n",
    "cv2.destroyAllWindows()\n",
    "cv2.waitKey(1)\n",
    "csrt = pd.DataFrame({'x': X_csrt, 'y':y_csrt,'w':w_csrt,'h':h_csrt})\n",
    "print(\"False : \"+ str(count))"
   ]
  },
  {
   "cell_type": "code",
   "execution_count": 6,
   "metadata": {},
   "outputs": [
    {
     "data": {
      "text/html": [
       "<div>\n",
       "<style scoped>\n",
       "    .dataframe tbody tr th:only-of-type {\n",
       "        vertical-align: middle;\n",
       "    }\n",
       "\n",
       "    .dataframe tbody tr th {\n",
       "        vertical-align: top;\n",
       "    }\n",
       "\n",
       "    .dataframe thead th {\n",
       "        text-align: right;\n",
       "    }\n",
       "</style>\n",
       "<table border=\"1\" class=\"dataframe\">\n",
       "  <thead>\n",
       "    <tr style=\"text-align: right;\">\n",
       "      <th></th>\n",
       "      <th>x1</th>\n",
       "      <th>y1</th>\n",
       "      <th>x2</th>\n",
       "      <th>y2</th>\n",
       "    </tr>\n",
       "  </thead>\n",
       "  <tbody>\n",
       "    <tr>\n",
       "      <th>0</th>\n",
       "      <td>269</td>\n",
       "      <td>75</td>\n",
       "      <td>303</td>\n",
       "      <td>139</td>\n",
       "    </tr>\n",
       "    <tr>\n",
       "      <th>1</th>\n",
       "      <td>267</td>\n",
       "      <td>73</td>\n",
       "      <td>300</td>\n",
       "      <td>135</td>\n",
       "    </tr>\n",
       "    <tr>\n",
       "      <th>2</th>\n",
       "      <td>262</td>\n",
       "      <td>71</td>\n",
       "      <td>295</td>\n",
       "      <td>133</td>\n",
       "    </tr>\n",
       "    <tr>\n",
       "      <th>3</th>\n",
       "      <td>256</td>\n",
       "      <td>71</td>\n",
       "      <td>288</td>\n",
       "      <td>131</td>\n",
       "    </tr>\n",
       "    <tr>\n",
       "      <th>4</th>\n",
       "      <td>252</td>\n",
       "      <td>66</td>\n",
       "      <td>285</td>\n",
       "      <td>128</td>\n",
       "    </tr>\n",
       "  </tbody>\n",
       "</table>\n",
       "</div>"
      ],
      "text/plain": [
       "    x1  y1   x2   y2\n",
       "0  269  75  303  139\n",
       "1  267  73  300  135\n",
       "2  262  71  295  133\n",
       "3  256  71  288  131\n",
       "4  252  66  285  128"
      ]
     },
     "execution_count": 6,
     "metadata": {},
     "output_type": "execute_result"
    }
   ],
   "source": [
    "csrt_ = pd.DataFrame()\n",
    "csrt_['x1'] = csrt['x']\n",
    "csrt_['y1'] = csrt['y']\n",
    "csrt_['x2'] = csrt['w'] + csrt['x']\n",
    "csrt_['y2'] = csrt['h'] + csrt['y']\n",
    "csrt_.head()"
   ]
  },
  {
   "cell_type": "code",
   "execution_count": 7,
   "metadata": {},
   "outputs": [
    {
     "data": {
      "text/plain": [
       "(293, 4)"
      ]
     },
     "execution_count": 7,
     "metadata": {},
     "output_type": "execute_result"
    }
   ],
   "source": [
    "csrt_.shape"
   ]
  },
  {
   "cell_type": "code",
   "execution_count": 9,
   "metadata": {},
   "outputs": [],
   "source": [
    "csrt_.to_csv('./results/csrt.csv')"
   ]
  },
  {
   "cell_type": "markdown",
   "metadata": {},
   "source": [
    "## KCF Tracker"
   ]
  },
  {
   "cell_type": "code",
   "execution_count": 18,
   "metadata": {},
   "outputs": [
    {
     "name": "stdout",
     "output_type": "stream",
     "text": [
      "False : 290\n"
     ]
    }
   ],
   "source": [
    "#Video Capture\n",
    "cap = cv2.VideoCapture('./img/%04d.jpg')\n",
    "# cap.set(cv2.CAP_PROP_FPS, 200)\n",
    "#Trackerのインスタンス生成\n",
    "KCF = cv2.TrackerKCF_create()\n",
    "\n",
    "X_kcf = []\n",
    "y_kcf = []\n",
    "w_kcf = []\n",
    "h_kcf = []\n",
    "\n",
    "BB_KCF = None\n",
    "count = 0\n",
    "\n",
    "while True:\n",
    "    \n",
    "    try:\n",
    "        ok, frame = cap.read()\n",
    "        (H, W) = frame[:2]\n",
    "        \n",
    "# BoundingBoxの初期値(Ground-Truth)\n",
    "\n",
    "        BB_KCF = (269,75,34,64)\n",
    "\n",
    "\n",
    "        KCF.init(frame, BB_KCF)\n",
    "                \n",
    "        if BB_KCF is not None:\n",
    "            (success1, box) = KCF.update(frame)\n",
    "        \n",
    "            if success1:\n",
    "                (x, y, w, h) = [int(v) for v in box]\n",
    "                cv2.rectangle(frame, (x, y), (x + w, y + h),(255, 0, 0), 2)  #Blue\n",
    "                X_kcf.append(x)\n",
    "                y_kcf.append(y)\n",
    "                w_kcf.append(w)\n",
    "                h_kcf.append(h)\n",
    "            else:\n",
    "                count += 1\n",
    "                X_kcf.append(0)\n",
    "                y_kcf.append(0)\n",
    "                w_kcf.append(0)\n",
    "                h_kcf.append(0)\n",
    "                \n",
    "        cv2.imshow(\"Frame\",frame)\n",
    "        \n",
    "        if cv2.waitKey(10) == ord('q'):break\n",
    "    except:\n",
    "        break        \n",
    "\n",
    "cv2.destroyAllWindows()\n",
    "cv2.waitKey(1)\n",
    "kcf = pd.DataFrame({'x': X_kcf, 'y':y_kcf,'w':w_kcf,'h':h_kcf})\n",
    "print(\"False : \"+ str(count))"
   ]
  },
  {
   "cell_type": "code",
   "execution_count": 19,
   "metadata": {},
   "outputs": [
    {
     "data": {
      "text/html": [
       "<div>\n",
       "<style scoped>\n",
       "    .dataframe tbody tr th:only-of-type {\n",
       "        vertical-align: middle;\n",
       "    }\n",
       "\n",
       "    .dataframe tbody tr th {\n",
       "        vertical-align: top;\n",
       "    }\n",
       "\n",
       "    .dataframe thead th {\n",
       "        text-align: right;\n",
       "    }\n",
       "</style>\n",
       "<table border=\"1\" class=\"dataframe\">\n",
       "  <thead>\n",
       "    <tr style=\"text-align: right;\">\n",
       "      <th></th>\n",
       "      <th>x1</th>\n",
       "      <th>y1</th>\n",
       "      <th>x2</th>\n",
       "      <th>y2</th>\n",
       "    </tr>\n",
       "  </thead>\n",
       "  <tbody>\n",
       "    <tr>\n",
       "      <th>0</th>\n",
       "      <td>269</td>\n",
       "      <td>75</td>\n",
       "      <td>303</td>\n",
       "      <td>139</td>\n",
       "    </tr>\n",
       "    <tr>\n",
       "      <th>1</th>\n",
       "      <td>266</td>\n",
       "      <td>73</td>\n",
       "      <td>300</td>\n",
       "      <td>137</td>\n",
       "    </tr>\n",
       "    <tr>\n",
       "      <th>2</th>\n",
       "      <td>0</td>\n",
       "      <td>0</td>\n",
       "      <td>0</td>\n",
       "      <td>0</td>\n",
       "    </tr>\n",
       "    <tr>\n",
       "      <th>3</th>\n",
       "      <td>0</td>\n",
       "      <td>0</td>\n",
       "      <td>0</td>\n",
       "      <td>0</td>\n",
       "    </tr>\n",
       "    <tr>\n",
       "      <th>4</th>\n",
       "      <td>0</td>\n",
       "      <td>0</td>\n",
       "      <td>0</td>\n",
       "      <td>0</td>\n",
       "    </tr>\n",
       "  </tbody>\n",
       "</table>\n",
       "</div>"
      ],
      "text/plain": [
       "    x1  y1   x2   y2\n",
       "0  269  75  303  139\n",
       "1  266  73  300  137\n",
       "2    0   0    0    0\n",
       "3    0   0    0    0\n",
       "4    0   0    0    0"
      ]
     },
     "execution_count": 19,
     "metadata": {},
     "output_type": "execute_result"
    }
   ],
   "source": [
    "kcf_ = pd.DataFrame()\n",
    "kcf_['x1'] = kcf['x']\n",
    "kcf_['y1'] = kcf['y']\n",
    "kcf_['x2'] = kcf['w'] + kcf['x']\n",
    "kcf_['y2'] = kcf['h'] + kcf['y']\n",
    "kcf_.head()"
   ]
  },
  {
   "cell_type": "code",
   "execution_count": 20,
   "metadata": {},
   "outputs": [
    {
     "data": {
      "text/plain": [
       "(293, 4)"
      ]
     },
     "execution_count": 20,
     "metadata": {},
     "output_type": "execute_result"
    }
   ],
   "source": [
    "kcf.shape"
   ]
  },
  {
   "cell_type": "code",
   "execution_count": 21,
   "metadata": {},
   "outputs": [],
   "source": [
    "kcf_.to_csv('./results/kcf.csv')"
   ]
  },
  {
   "cell_type": "markdown",
   "metadata": {},
   "source": [
    "## Boosting Tracker"
   ]
  },
  {
   "cell_type": "code",
   "execution_count": 22,
   "metadata": {},
   "outputs": [
    {
     "name": "stdout",
     "output_type": "stream",
     "text": [
      "False : 0\n"
     ]
    }
   ],
   "source": [
    "#Video Capture\n",
    "cap = cv2.VideoCapture('./img/%04d.jpg')\n",
    "#Trackerのインスタンス生成\n",
    "Boosting = cv2.TrackerBoosting_create()\n",
    "\n",
    "X_boosting = []\n",
    "y_boosting = []\n",
    "w_boosting = []\n",
    "h_boosting = []\n",
    "\n",
    "BB_Boosting = None\n",
    "count = 0\n",
    "\n",
    "while True:\n",
    "    \n",
    "    try:\n",
    "        ok, frame = cap.read()\n",
    "        (H, W) = frame[:2]\n",
    "        \n",
    "# BoundingBoxの初期値(Ground-Truth)\n",
    "\n",
    "        BB_Boosting = (269,75,34,64)\n",
    "\n",
    "\n",
    "        Boosting.init(frame, BB_Boosting)\n",
    "                \n",
    "        if BB_Boosting is not None:\n",
    "            (success2, box) = Boosting.update(frame)\n",
    "        \n",
    "            if success2:\n",
    "                (x, y, w, h) = [int(v) for v in box]\n",
    "                cv2.rectangle(frame, (x, y), (x + w, y + h),(0, 0, 255), 2) #Red\n",
    "                X_boosting.append(x)\n",
    "                y_boosting.append(y)\n",
    "                w_boosting.append(w)\n",
    "                h_boosting.append(h)\n",
    "            else:\n",
    "                count += 1\n",
    "                X_boosting.append(0)\n",
    "                y_boosting.append(0)\n",
    "                w_boosting.append(0)\n",
    "                h_boosting.append(0)\n",
    "                \n",
    "        cv2.imshow(\"Frame\",frame)\n",
    "        \n",
    "        if cv2.waitKey(10) == ord('q'):break\n",
    "    except:\n",
    "        break        \n",
    "\n",
    "cv2.destroyAllWindows()\n",
    "cv2.waitKey(1)\n",
    "boosting = pd.DataFrame({'x': X_boosting, 'y':y_boosting,'w':w_boosting,'h':h_boosting})\n",
    "print(\"False : \"+ str(count))"
   ]
  },
  {
   "cell_type": "code",
   "execution_count": 23,
   "metadata": {},
   "outputs": [
    {
     "data": {
      "text/html": [
       "<div>\n",
       "<style scoped>\n",
       "    .dataframe tbody tr th:only-of-type {\n",
       "        vertical-align: middle;\n",
       "    }\n",
       "\n",
       "    .dataframe tbody tr th {\n",
       "        vertical-align: top;\n",
       "    }\n",
       "\n",
       "    .dataframe thead th {\n",
       "        text-align: right;\n",
       "    }\n",
       "</style>\n",
       "<table border=\"1\" class=\"dataframe\">\n",
       "  <thead>\n",
       "    <tr style=\"text-align: right;\">\n",
       "      <th></th>\n",
       "      <th>x1</th>\n",
       "      <th>y1</th>\n",
       "      <th>x2</th>\n",
       "      <th>y2</th>\n",
       "    </tr>\n",
       "  </thead>\n",
       "  <tbody>\n",
       "    <tr>\n",
       "      <th>0</th>\n",
       "      <td>269</td>\n",
       "      <td>75</td>\n",
       "      <td>303</td>\n",
       "      <td>139</td>\n",
       "    </tr>\n",
       "    <tr>\n",
       "      <th>1</th>\n",
       "      <td>266</td>\n",
       "      <td>75</td>\n",
       "      <td>300</td>\n",
       "      <td>139</td>\n",
       "    </tr>\n",
       "    <tr>\n",
       "      <th>2</th>\n",
       "      <td>262</td>\n",
       "      <td>82</td>\n",
       "      <td>296</td>\n",
       "      <td>146</td>\n",
       "    </tr>\n",
       "    <tr>\n",
       "      <th>3</th>\n",
       "      <td>270</td>\n",
       "      <td>84</td>\n",
       "      <td>304</td>\n",
       "      <td>148</td>\n",
       "    </tr>\n",
       "    <tr>\n",
       "      <th>4</th>\n",
       "      <td>268</td>\n",
       "      <td>82</td>\n",
       "      <td>302</td>\n",
       "      <td>146</td>\n",
       "    </tr>\n",
       "  </tbody>\n",
       "</table>\n",
       "</div>"
      ],
      "text/plain": [
       "    x1  y1   x2   y2\n",
       "0  269  75  303  139\n",
       "1  266  75  300  139\n",
       "2  262  82  296  146\n",
       "3  270  84  304  148\n",
       "4  268  82  302  146"
      ]
     },
     "execution_count": 23,
     "metadata": {},
     "output_type": "execute_result"
    }
   ],
   "source": [
    "boosting_ = pd.DataFrame()\n",
    "boosting_['x1'] = boosting['x']\n",
    "boosting_['y1'] = boosting['y']\n",
    "boosting_['x2'] = boosting['w'] + boosting['x']\n",
    "boosting_['y2'] = boosting['h'] + boosting['y']\n",
    "boosting_.head()"
   ]
  },
  {
   "cell_type": "code",
   "execution_count": 24,
   "metadata": {},
   "outputs": [
    {
     "data": {
      "text/plain": [
       "(293, 4)"
      ]
     },
     "execution_count": 24,
     "metadata": {},
     "output_type": "execute_result"
    }
   ],
   "source": [
    "boosting_.shape"
   ]
  },
  {
   "cell_type": "code",
   "execution_count": 25,
   "metadata": {},
   "outputs": [],
   "source": [
    "boosting_.to_csv('./results/boosting.csv')"
   ]
  },
  {
   "cell_type": "markdown",
   "metadata": {},
   "source": [
    "## MedianFlow Tracker"
   ]
  },
  {
   "cell_type": "code",
   "execution_count": 26,
   "metadata": {},
   "outputs": [
    {
     "name": "stdout",
     "output_type": "stream",
     "text": [
      "False : 12\n"
     ]
    }
   ],
   "source": [
    "cap = cv2.VideoCapture('./img/%04d.jpg')\n",
    "#Trackerのインスタンス生成\n",
    "MF = cv2.TrackerMedianFlow_create()\n",
    "\n",
    "X_mf = []\n",
    "y_mf = []\n",
    "w_mf = []\n",
    "h_mf = []\n",
    "\n",
    "BB_mf = None\n",
    "count = 0\n",
    "\n",
    "while True:\n",
    "    \n",
    "    try:\n",
    "        ok, frame = cap.read()\n",
    "        (H, W) = frame[:2]\n",
    "        \n",
    "# BoundingBoxの初期値(Ground-Truth)\n",
    "\n",
    "        BB_mf = (269,75,34,64)\n",
    "\n",
    "\n",
    "        MF.init(frame, BB_mf)\n",
    "                \n",
    "        if BB_mf is not None:\n",
    "            (success3, box) = MF.update(frame)\n",
    "        \n",
    "            if success3:\n",
    "                (x, y, w, h) = [int(v) for v in box]\n",
    "                cv2.rectangle(frame, (x, y), (x + w, y + h),(255, 255, 0), 2) #LightBlue\n",
    "                X_mf.append(x)\n",
    "                y_mf.append(y)\n",
    "                w_mf.append(w)\n",
    "                h_mf.append(h)\n",
    "            else:\n",
    "                count += 1\n",
    "                X_mf.append(0)\n",
    "                y_mf.append(0)\n",
    "                w_mf.append(0)\n",
    "                h_mf.append(0)\n",
    "                \n",
    "        cv2.imshow(\"Frame\",frame)\n",
    "        \n",
    "        if cv2.waitKey(10) == ord('q'):break\n",
    "    except:\n",
    "        break        \n",
    "\n",
    "cv2.destroyAllWindows()\n",
    "cv2.waitKey(1)\n",
    "mf = pd.DataFrame({'x': X_mf, 'y':y_mf,'w':w_mf,'h':h_mf})\n",
    "print(\"False : \"+ str(count))"
   ]
  },
  {
   "cell_type": "code",
   "execution_count": 27,
   "metadata": {},
   "outputs": [
    {
     "data": {
      "text/html": [
       "<div>\n",
       "<style scoped>\n",
       "    .dataframe tbody tr th:only-of-type {\n",
       "        vertical-align: middle;\n",
       "    }\n",
       "\n",
       "    .dataframe tbody tr th {\n",
       "        vertical-align: top;\n",
       "    }\n",
       "\n",
       "    .dataframe thead th {\n",
       "        text-align: right;\n",
       "    }\n",
       "</style>\n",
       "<table border=\"1\" class=\"dataframe\">\n",
       "  <thead>\n",
       "    <tr style=\"text-align: right;\">\n",
       "      <th></th>\n",
       "      <th>x1</th>\n",
       "      <th>y1</th>\n",
       "      <th>x2</th>\n",
       "      <th>y2</th>\n",
       "    </tr>\n",
       "  </thead>\n",
       "  <tbody>\n",
       "    <tr>\n",
       "      <th>0</th>\n",
       "      <td>269</td>\n",
       "      <td>75</td>\n",
       "      <td>303</td>\n",
       "      <td>139</td>\n",
       "    </tr>\n",
       "    <tr>\n",
       "      <th>1</th>\n",
       "      <td>264</td>\n",
       "      <td>72</td>\n",
       "      <td>298</td>\n",
       "      <td>137</td>\n",
       "    </tr>\n",
       "    <tr>\n",
       "      <th>2</th>\n",
       "      <td>263</td>\n",
       "      <td>69</td>\n",
       "      <td>298</td>\n",
       "      <td>135</td>\n",
       "    </tr>\n",
       "    <tr>\n",
       "      <th>3</th>\n",
       "      <td>259</td>\n",
       "      <td>67</td>\n",
       "      <td>295</td>\n",
       "      <td>135</td>\n",
       "    </tr>\n",
       "    <tr>\n",
       "      <th>4</th>\n",
       "      <td>254</td>\n",
       "      <td>64</td>\n",
       "      <td>291</td>\n",
       "      <td>134</td>\n",
       "    </tr>\n",
       "  </tbody>\n",
       "</table>\n",
       "</div>"
      ],
      "text/plain": [
       "    x1  y1   x2   y2\n",
       "0  269  75  303  139\n",
       "1  264  72  298  137\n",
       "2  263  69  298  135\n",
       "3  259  67  295  135\n",
       "4  254  64  291  134"
      ]
     },
     "execution_count": 27,
     "metadata": {},
     "output_type": "execute_result"
    }
   ],
   "source": [
    "mf_ = pd.DataFrame()\n",
    "mf_['x1'] = mf['x']\n",
    "mf_['y1'] = mf['y']\n",
    "mf_['x2'] = mf['w'] + mf['x']\n",
    "mf_['y2'] = mf['h'] + mf['y']\n",
    "mf_.head()"
   ]
  },
  {
   "cell_type": "code",
   "execution_count": 28,
   "metadata": {},
   "outputs": [
    {
     "data": {
      "text/plain": [
       "(293, 4)"
      ]
     },
     "execution_count": 28,
     "metadata": {},
     "output_type": "execute_result"
    }
   ],
   "source": [
    "boosting_.shape"
   ]
  },
  {
   "cell_type": "code",
   "execution_count": 29,
   "metadata": {},
   "outputs": [],
   "source": [
    "mf_.to_csv('./results/medianflow.csv')"
   ]
  },
  {
   "cell_type": "markdown",
   "metadata": {},
   "source": [
    "## MIL(Multiple Instance Learning) Tracker"
   ]
  },
  {
   "cell_type": "code",
   "execution_count": 30,
   "metadata": {},
   "outputs": [
    {
     "name": "stdout",
     "output_type": "stream",
     "text": [
      "False : 0\n"
     ]
    }
   ],
   "source": [
    "cap = cv2.VideoCapture('./img/%04d.jpg')\n",
    "#Trackerのインスタンス生成\n",
    "MIL = cv2.TrackerMIL_create()\n",
    "\n",
    "X_mil = []\n",
    "y_mil = []\n",
    "w_mil = []\n",
    "h_mil = []\n",
    "\n",
    "BB_mil = None\n",
    "count = 0\n",
    "\n",
    "while True:\n",
    "    \n",
    "    try:\n",
    "        ok, frame = cap.read()\n",
    "        (H, W) = frame[:2]\n",
    "        \n",
    "# BoundingBoxの初期値(Ground-Truth)\n",
    "\n",
    "        BB_mil = (269,75,34,64)\n",
    "\n",
    "\n",
    "        MIL.init(frame, BB_mil)\n",
    "                \n",
    "        if BB_mil is not None:\n",
    "            (success4, box) = MIL.update(frame)\n",
    "        \n",
    "            if success4:\n",
    "                (x, y, w, h) = [int(v) for v in box]\n",
    "                cv2.rectangle(frame, (x, y), (x + w, y + h),(0, 255, 255), 2) #LightBlue\n",
    "                X_mil.append(x)\n",
    "                y_mil.append(y)\n",
    "                w_mil.append(w)\n",
    "                h_mil.append(h)\n",
    "            else:\n",
    "                count += 1\n",
    "                X_mil.append(0)\n",
    "                y_mil.append(0)\n",
    "                w_mil.append(0)\n",
    "                h_mil.append(0)\n",
    "                \n",
    "        cv2.imshow(\"Frame\",frame)\n",
    "        \n",
    "        if cv2.waitKey(10) == ord('q'):break\n",
    "    except:\n",
    "        break        \n",
    "\n",
    "cv2.destroyAllWindows()\n",
    "cv2.waitKey(1)\n",
    "mil = pd.DataFrame({'x': X_mil, 'y':y_mil,'w':w_mil,'h':h_mil})\n",
    "print(\"False : \"+ str(count))"
   ]
  },
  {
   "cell_type": "code",
   "execution_count": 31,
   "metadata": {},
   "outputs": [
    {
     "data": {
      "text/html": [
       "<div>\n",
       "<style scoped>\n",
       "    .dataframe tbody tr th:only-of-type {\n",
       "        vertical-align: middle;\n",
       "    }\n",
       "\n",
       "    .dataframe tbody tr th {\n",
       "        vertical-align: top;\n",
       "    }\n",
       "\n",
       "    .dataframe thead th {\n",
       "        text-align: right;\n",
       "    }\n",
       "</style>\n",
       "<table border=\"1\" class=\"dataframe\">\n",
       "  <thead>\n",
       "    <tr style=\"text-align: right;\">\n",
       "      <th></th>\n",
       "      <th>x1</th>\n",
       "      <th>y1</th>\n",
       "      <th>x2</th>\n",
       "      <th>y2</th>\n",
       "    </tr>\n",
       "  </thead>\n",
       "  <tbody>\n",
       "    <tr>\n",
       "      <th>0</th>\n",
       "      <td>269</td>\n",
       "      <td>75</td>\n",
       "      <td>303</td>\n",
       "      <td>139</td>\n",
       "    </tr>\n",
       "    <tr>\n",
       "      <th>1</th>\n",
       "      <td>266</td>\n",
       "      <td>74</td>\n",
       "      <td>300</td>\n",
       "      <td>138</td>\n",
       "    </tr>\n",
       "    <tr>\n",
       "      <th>2</th>\n",
       "      <td>262</td>\n",
       "      <td>71</td>\n",
       "      <td>296</td>\n",
       "      <td>135</td>\n",
       "    </tr>\n",
       "    <tr>\n",
       "      <th>3</th>\n",
       "      <td>268</td>\n",
       "      <td>83</td>\n",
       "      <td>302</td>\n",
       "      <td>147</td>\n",
       "    </tr>\n",
       "    <tr>\n",
       "      <th>4</th>\n",
       "      <td>265</td>\n",
       "      <td>82</td>\n",
       "      <td>299</td>\n",
       "      <td>146</td>\n",
       "    </tr>\n",
       "  </tbody>\n",
       "</table>\n",
       "</div>"
      ],
      "text/plain": [
       "    x1  y1   x2   y2\n",
       "0  269  75  303  139\n",
       "1  266  74  300  138\n",
       "2  262  71  296  135\n",
       "3  268  83  302  147\n",
       "4  265  82  299  146"
      ]
     },
     "execution_count": 31,
     "metadata": {},
     "output_type": "execute_result"
    }
   ],
   "source": [
    "mil_ = pd.DataFrame()\n",
    "mil_['x1'] = mil['x']\n",
    "mil_['y1'] = mil['y']\n",
    "mil_['x2'] = mil['w'] + mil['x']\n",
    "mil_['y2'] = mil['h'] + mil['y']\n",
    "mil_.head()"
   ]
  },
  {
   "cell_type": "code",
   "execution_count": 32,
   "metadata": {},
   "outputs": [
    {
     "data": {
      "text/plain": [
       "(293, 4)"
      ]
     },
     "execution_count": 32,
     "metadata": {},
     "output_type": "execute_result"
    }
   ],
   "source": [
    "mil_.shape"
   ]
  },
  {
   "cell_type": "code",
   "execution_count": 33,
   "metadata": {},
   "outputs": [],
   "source": [
    "mil_.to_csv('./results/MIL.csv')"
   ]
  },
  {
   "cell_type": "markdown",
   "metadata": {},
   "source": [
    "## TLD (Tracking Learning Detection) Tracker"
   ]
  },
  {
   "cell_type": "code",
   "execution_count": 34,
   "metadata": {},
   "outputs": [
    {
     "name": "stdout",
     "output_type": "stream",
     "text": [
      "False : 0\n"
     ]
    }
   ],
   "source": [
    "cap = cv2.VideoCapture('./img/%04d.jpg')\n",
    "#Trackerのインスタンス生成\n",
    "TLD= cv2.TrackerTLD_create()\n",
    "\n",
    "X_tld = []\n",
    "y_tld = []\n",
    "w_tld = []\n",
    "h_tld = []\n",
    "\n",
    "BB_tld = None\n",
    "count = 0\n",
    "\n",
    "while True:\n",
    "    \n",
    "    try:\n",
    "        ok, frame = cap.read()\n",
    "        (H, W) = frame[:2]\n",
    "        \n",
    "# BoundingBoxの初期値(Ground-Truth)\n",
    "\n",
    "        BB_tld = (269,75,34,64)\n",
    "\n",
    "\n",
    "        TLD.init(frame, BB_tld)\n",
    "                \n",
    "        if BB_tld is not None:\n",
    "            (success5, box) = TLD.update(frame)\n",
    "        \n",
    "            if success5:\n",
    "                (x, y, w, h) = [int(v) for v in box]\n",
    "                cv2.rectangle(frame, (x, y), (x + w, y + h),(255, 0, 255), 2) #LightBlue\n",
    "                X_tld.append(x)\n",
    "                y_tld.append(y)\n",
    "                w_tld.append(w)\n",
    "                h_tld.append(h)\n",
    "            else:\n",
    "                count += 1\n",
    "                X_tld.append(0)\n",
    "                y_tld.append(0)\n",
    "                w_tld.append(0)\n",
    "                h_tld.append(0)\n",
    "                \n",
    "        cv2.imshow(\"Frame\",frame)\n",
    "        \n",
    "        if cv2.waitKey(10) == ord('q'):break\n",
    "    except:\n",
    "        break        \n",
    "\n",
    "cv2.destroyAllWindows()\n",
    "cv2.waitKey(1)\n",
    "tld = pd.DataFrame({'x': X_tld, 'y':y_tld,'w':w_tld,'h':h_tld})\n",
    "print(\"False : \"+ str(count))"
   ]
  },
  {
   "cell_type": "code",
   "execution_count": 35,
   "metadata": {},
   "outputs": [
    {
     "data": {
      "text/html": [
       "<div>\n",
       "<style scoped>\n",
       "    .dataframe tbody tr th:only-of-type {\n",
       "        vertical-align: middle;\n",
       "    }\n",
       "\n",
       "    .dataframe tbody tr th {\n",
       "        vertical-align: top;\n",
       "    }\n",
       "\n",
       "    .dataframe thead th {\n",
       "        text-align: right;\n",
       "    }\n",
       "</style>\n",
       "<table border=\"1\" class=\"dataframe\">\n",
       "  <thead>\n",
       "    <tr style=\"text-align: right;\">\n",
       "      <th></th>\n",
       "      <th>x1</th>\n",
       "      <th>y1</th>\n",
       "      <th>x2</th>\n",
       "      <th>y2</th>\n",
       "    </tr>\n",
       "  </thead>\n",
       "  <tbody>\n",
       "    <tr>\n",
       "      <th>0</th>\n",
       "      <td>273</td>\n",
       "      <td>77</td>\n",
       "      <td>307</td>\n",
       "      <td>140</td>\n",
       "    </tr>\n",
       "    <tr>\n",
       "      <th>1</th>\n",
       "      <td>269</td>\n",
       "      <td>75</td>\n",
       "      <td>303</td>\n",
       "      <td>139</td>\n",
       "    </tr>\n",
       "    <tr>\n",
       "      <th>2</th>\n",
       "      <td>268</td>\n",
       "      <td>74</td>\n",
       "      <td>302</td>\n",
       "      <td>137</td>\n",
       "    </tr>\n",
       "    <tr>\n",
       "      <th>3</th>\n",
       "      <td>265</td>\n",
       "      <td>72</td>\n",
       "      <td>299</td>\n",
       "      <td>136</td>\n",
       "    </tr>\n",
       "    <tr>\n",
       "      <th>4</th>\n",
       "      <td>261</td>\n",
       "      <td>69</td>\n",
       "      <td>296</td>\n",
       "      <td>135</td>\n",
       "    </tr>\n",
       "  </tbody>\n",
       "</table>\n",
       "</div>"
      ],
      "text/plain": [
       "    x1  y1   x2   y2\n",
       "0  273  77  307  140\n",
       "1  269  75  303  139\n",
       "2  268  74  302  137\n",
       "3  265  72  299  136\n",
       "4  261  69  296  135"
      ]
     },
     "execution_count": 35,
     "metadata": {},
     "output_type": "execute_result"
    }
   ],
   "source": [
    "tld_ = pd.DataFrame()\n",
    "tld_['x1'] = tld['x']\n",
    "tld_['y1'] = tld['y']\n",
    "tld_['x2'] = tld['w'] + tld['x']\n",
    "tld_['y2'] = tld['h'] + tld['y']\n",
    "tld_.head()"
   ]
  },
  {
   "cell_type": "code",
   "execution_count": 36,
   "metadata": {},
   "outputs": [
    {
     "data": {
      "text/plain": [
       "(293, 4)"
      ]
     },
     "execution_count": 36,
     "metadata": {},
     "output_type": "execute_result"
    }
   ],
   "source": [
    "tld_.shape"
   ]
  },
  {
   "cell_type": "code",
   "execution_count": 37,
   "metadata": {},
   "outputs": [],
   "source": [
    "tld_.to_csv('./results/TLD.csv')"
   ]
  },
  {
   "cell_type": "code",
   "execution_count": null,
   "metadata": {},
   "outputs": [],
   "source": []
  }
 ],
 "metadata": {
  "kernelspec": {
   "display_name": "Python 3",
   "language": "python",
   "name": "python3"
  },
  "language_info": {
   "codemirror_mode": {
    "name": "ipython",
    "version": 3
   },
   "file_extension": ".py",
   "mimetype": "text/x-python",
   "name": "python",
   "nbconvert_exporter": "python",
   "pygments_lexer": "ipython3",
   "version": "3.7.3"
  },
  "toc": {
   "base_numbering": "",
   "nav_menu": {},
   "number_sections": false,
   "sideBar": true,
   "skip_h1_title": false,
   "title_cell": "Table of Contents",
   "title_sidebar": "Contents",
   "toc_cell": false,
   "toc_position": {
    "height": "530.308px",
    "left": "45px",
    "top": "110.429px",
    "width": "233.482px"
   },
   "toc_section_display": true,
   "toc_window_display": true
  }
 },
 "nbformat": 4,
 "nbformat_minor": 2
}
