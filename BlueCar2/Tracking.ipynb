{
 "cells": [
  {
   "cell_type": "markdown",
   "metadata": {},
   "source": [
    "# Visual Tracking using OpenCV"
   ]
  },
  {
   "cell_type": "markdown",
   "metadata": {},
   "source": [
    "## Data sets : Visual Tracker Benchmark [ http://www.visual-tracking.net ] (VOT2015)\n"
   ]
  },
  {
   "cell_type": "markdown",
   "metadata": {},
   "source": [
    "# BlueCar\n",
    "<img src=\"./img/0001.jpg\"> "
   ]
  },
  {
   "cell_type": "code",
   "execution_count": 4,
   "metadata": {},
   "outputs": [],
   "source": [
    "import cv2\n",
    "import cv2\n",
    "import numpy as np\n",
    "import pandas as pd\n",
    "from PIL import Image\n",
    "import sys\n",
    "from imutils.video import VideoStream\n",
    "from imutils.video import FPS\n",
    "import argparse\n",
    "import imutils\n",
    "import time\n",
    "import matplotlib.pyplot as plt\n",
    "from IPython import display\n",
    "%matplotlib inline"
   ]
  },
  {
   "cell_type": "code",
   "execution_count": 5,
   "metadata": {},
   "outputs": [],
   "source": [
    "X_csrt = []\n",
    "y_csrt = []\n",
    "w_csrt = []\n",
    "h_csrt = []\n",
    "\n",
    "X_kcf = []\n",
    "y_kcf = []\n",
    "w_kcf = []\n",
    "h_kcf = []\n",
    "\n",
    "X_boosting = []\n",
    "y_boosting = []\n",
    "w_boosting = []\n",
    "h_boosting = []\n",
    "\n",
    "X_mf = []\n",
    "y_mf = []\n",
    "w_mf = []\n",
    "h_mf = []\n",
    "\n",
    "X_mil = []\n",
    "y_mil = []\n",
    "w_mil = []\n",
    "h_mil = []\n",
    "\n",
    "X_tld = []\n",
    "y_tld = []\n",
    "w_tld = []\n",
    "h_tld = []"
   ]
  },
  {
   "cell_type": "code",
   "execution_count": 6,
   "metadata": {},
   "outputs": [
    {
     "data": {
      "text/plain": [
       "-1"
      ]
     },
     "execution_count": 6,
     "metadata": {},
     "output_type": "execute_result"
    }
   ],
   "source": [
    "#Video Capture\n",
    "cap = cv2.VideoCapture('./img/%04d.jpg')\n",
    "cap.set(cv2.CAP_PROP_FPS, 30)\n",
    "#Trackerのインスタンス生成\n",
    "CSRT = cv2.TrackerCSRT_create()\n",
    "KCF = cv2.TrackerKCF_create()\n",
    "Boosting = cv2.TrackerBoosting_create()\n",
    "MedianFlow = cv2.TrackerMedianFlow_create()\n",
    "MIL = cv2.TrackerMIL_create()\n",
    "TLD = cv2.TrackerTLD_create()\n",
    "\n",
    "BB_CSRT = None\n",
    "BB_KCF = None\n",
    "BB_Boosting = None\n",
    "BB_MF = None\n",
    "BB_MIL = None\n",
    "BB_TLD = None\n",
    "\n",
    "while True:\n",
    "    \n",
    "    try:\n",
    "        ok, frame = cap.read()\n",
    "        (H, W) = frame[:2]\n",
    "        \n",
    "# BoundingBoxの初期値(Ground-Truth)\n",
    "\n",
    "        BB_CSRT = (227,207,122,99)\n",
    "        BB_KCF = (227,207,122,99)\n",
    "        BB_Boosting = (227,207,122,99)\n",
    "        BB_MF = (227,207,122,99)\n",
    "        BB_MIL = (227,207,122,99)\n",
    "        BB_TLD = (227,207,122,99)\n",
    "\n",
    "        CSRT.init(frame, BB_CSRT)\n",
    "        KCF.init(frame, BB_KCF)\n",
    "        Boosting.init(frame, BB_Boosting)\n",
    "        MedianFlow.init(frame, BB_MF)\n",
    "        MIL.init(frame, BB_MIL)\n",
    "        TLD.init(frame, BB_TLD)\n",
    "        \n",
    "        if BB_CSRT is not None:\n",
    "            (success, box) = CSRT.update(frame)\n",
    "        \n",
    "            if success:\n",
    "                (x, y, w, h) = [int(v) for v in box]\n",
    "                cv2.rectangle(frame, (x, y), (x + w, y + h),(0, 255, 0), 2) #Green\n",
    "                X_csrt.append(x)\n",
    "                y_csrt.append(y)\n",
    "                w_csrt.append(w)\n",
    "                h_csrt.append(h)\n",
    "\n",
    "                \n",
    "        if BB_KCF is not None:\n",
    "            (success1, box) = KCF.update(frame)\n",
    "        \n",
    "            if success1:\n",
    "                (x, y, w, h) = [int(v) for v in box]\n",
    "                cv2.rectangle(frame, (x, y), (x + w, y + h),(255, 0, 0), 2)  #Blue\n",
    "                X_kcf.append(x)\n",
    "                y_kcf.append(y)\n",
    "                w_kcf.append(w)\n",
    "                h_kcf.append(h)\n",
    "\n",
    "                \n",
    "        if BB_Boosting is not None:\n",
    "            (success2, box) = Boosting.update(frame)\n",
    "        \n",
    "            if success2:\n",
    "                (x, y, w, h) = [int(v) for v in box]\n",
    "                cv2.rectangle(frame, (x, y), (x + w, y + h),(0, 0, 255), 2) #Red\n",
    "                X_boosting.append(x)\n",
    "                y_boosting.append(y)\n",
    "                w_boosting.append(w)\n",
    "                h_boosting.append(h)\n",
    "                \n",
    "        if BB_MF is not None:\n",
    "            (success3, box) = MedianFlow.update(frame)\n",
    "        \n",
    "            if success3:\n",
    "                (x, y, w, h) = [int(v) for v in box]\n",
    "                cv2.rectangle(frame, (x, y), (x + w, y + h),(255, 255, 0), 2)   #LightBlue\n",
    "                X_mf.append(x)\n",
    "                y_mf.append(y)\n",
    "                w_mf.append(w)\n",
    "                h_mf.append(h)\n",
    "                \n",
    "        if BB_MIL is not None:\n",
    "            (success4, box) = MIL.update(frame)\n",
    "        \n",
    "            if success4:\n",
    "                (x, y, w, h) = [int(v) for v in box]\n",
    "                cv2.rectangle(frame, (x, y), (x + w, y + h),(0, 255, 255), 2)   #Yellow\n",
    "                X_mil.append(x)\n",
    "                y_mil.append(y)\n",
    "                w_mil.append(w)\n",
    "                h_mil.append(h)\n",
    "                \n",
    "        if BB_TLD is not None:\n",
    "            (success5, box) = TLD.update(frame)\n",
    "        \n",
    "            if success5:\n",
    "                (x, y, w, h) = [int(v) for v in box]\n",
    "                cv2.rectangle(frame, (x, y), (x + w, y + h),(255, 0, 255), 2)   #Pink\n",
    "                X_tld.append(x)\n",
    "                y_tld.append(y)\n",
    "                w_tld.append(w)\n",
    "                h_tld.append(h)\n",
    "                \n",
    "        cv2.imshow(\"Frame\",frame)\n",
    "        \n",
    "        if cv2.waitKey(10) == ord('q'):break\n",
    "    except:\n",
    "        break        \n",
    "\n",
    "cv2.destroyAllWindows()\n",
    "cv2.waitKey(1)"
   ]
  },
  {
   "cell_type": "code",
   "execution_count": 5,
   "metadata": {},
   "outputs": [
    {
     "name": "stdout",
     "output_type": "stream",
     "text": [
      "25.0\n"
     ]
    }
   ],
   "source": [
    "print(cap.get(cv2.CAP_PROP_FPS))"
   ]
  },
  {
   "cell_type": "markdown",
   "metadata": {},
   "source": [
    "## CSRT(Channel and Spetial Reliability Tracking) Tracker"
   ]
  },
  {
   "cell_type": "code",
   "execution_count": 6,
   "metadata": {},
   "outputs": [
    {
     "name": "stdout",
     "output_type": "stream",
     "text": [
      "False : 0\n"
     ]
    }
   ],
   "source": [
    "#Video Capture\n",
    "cap = cv2.VideoCapture('./img/%04d.jpg')\n",
    "#Trackerのインスタンス生成\n",
    "CSRT = cv2.TrackerCSRT_create()\n",
    "X_csrt = []\n",
    "y_csrt = []\n",
    "w_csrt = []\n",
    "h_csrt = []\n",
    "\n",
    "BB_CSRT = None\n",
    "count = 0\n",
    "while True:\n",
    "    \n",
    "    try:\n",
    "        ok, frame = cap.read()\n",
    "        (H, W) = frame[:2]\n",
    "        \n",
    "# BoundingBoxの初期値(Ground-Truth)\n",
    "\n",
    "        BB_CSRT = (227,207,122,99)\n",
    "\n",
    "        CSRT.init(frame, BB_CSRT)\n",
    "        \n",
    "        if BB_CSRT is not None:\n",
    "            (success, box) = CSRT.update(frame)\n",
    "        \n",
    "            if success:\n",
    "                (x, y, w, h) = [int(v) for v in box]\n",
    "                cv2.rectangle(frame, (x, y), (x + w, y + h),(0, 255, 0), 2) #Green\n",
    "                X_csrt.append(x)\n",
    "                y_csrt.append(y)\n",
    "                w_csrt.append(w)\n",
    "                h_csrt.append(h)\n",
    "            else:\n",
    "                count += 1\n",
    "                \n",
    "        cv2.imshow(\"Frame\",frame)\n",
    "        \n",
    "        if cv2.waitKey(10) == ord('q'):break\n",
    "    except:\n",
    "        break        \n",
    "\n",
    "cv2.destroyAllWindows()\n",
    "cv2.waitKey(1)\n",
    "csrt = pd.DataFrame({'x': X_csrt, 'y':y_csrt,'w':w_csrt,'h':h_csrt})\n",
    "print(\"False : \"+ str(count))"
   ]
  },
  {
   "cell_type": "code",
   "execution_count": 7,
   "metadata": {},
   "outputs": [
    {
     "data": {
      "text/html": [
       "<div>\n",
       "<style scoped>\n",
       "    .dataframe tbody tr th:only-of-type {\n",
       "        vertical-align: middle;\n",
       "    }\n",
       "\n",
       "    .dataframe tbody tr th {\n",
       "        vertical-align: top;\n",
       "    }\n",
       "\n",
       "    .dataframe thead th {\n",
       "        text-align: right;\n",
       "    }\n",
       "</style>\n",
       "<table border=\"1\" class=\"dataframe\">\n",
       "  <thead>\n",
       "    <tr style=\"text-align: right;\">\n",
       "      <th></th>\n",
       "      <th>x1</th>\n",
       "      <th>y1</th>\n",
       "      <th>x2</th>\n",
       "      <th>y2</th>\n",
       "    </tr>\n",
       "  </thead>\n",
       "  <tbody>\n",
       "    <tr>\n",
       "      <th>0</th>\n",
       "      <td>227</td>\n",
       "      <td>207</td>\n",
       "      <td>349</td>\n",
       "      <td>306</td>\n",
       "    </tr>\n",
       "    <tr>\n",
       "      <th>1</th>\n",
       "      <td>241</td>\n",
       "      <td>208</td>\n",
       "      <td>363</td>\n",
       "      <td>307</td>\n",
       "    </tr>\n",
       "    <tr>\n",
       "      <th>2</th>\n",
       "      <td>259</td>\n",
       "      <td>213</td>\n",
       "      <td>376</td>\n",
       "      <td>308</td>\n",
       "    </tr>\n",
       "    <tr>\n",
       "      <th>3</th>\n",
       "      <td>261</td>\n",
       "      <td>222</td>\n",
       "      <td>378</td>\n",
       "      <td>317</td>\n",
       "    </tr>\n",
       "    <tr>\n",
       "      <th>4</th>\n",
       "      <td>261</td>\n",
       "      <td>231</td>\n",
       "      <td>378</td>\n",
       "      <td>326</td>\n",
       "    </tr>\n",
       "  </tbody>\n",
       "</table>\n",
       "</div>"
      ],
      "text/plain": [
       "    x1   y1   x2   y2\n",
       "0  227  207  349  306\n",
       "1  241  208  363  307\n",
       "2  259  213  376  308\n",
       "3  261  222  378  317\n",
       "4  261  231  378  326"
      ]
     },
     "execution_count": 7,
     "metadata": {},
     "output_type": "execute_result"
    }
   ],
   "source": [
    "csrt_ = pd.DataFrame()\n",
    "csrt_['x1'] = csrt['x']\n",
    "csrt_['y1'] = csrt['y']\n",
    "csrt_['x2'] = csrt['w'] + csrt['x']\n",
    "csrt_['y2'] = csrt['h'] + csrt['y']\n",
    "csrt_.head()"
   ]
  },
  {
   "cell_type": "code",
   "execution_count": 8,
   "metadata": {},
   "outputs": [
    {
     "data": {
      "text/plain": [
       "(585, 4)"
      ]
     },
     "execution_count": 8,
     "metadata": {},
     "output_type": "execute_result"
    }
   ],
   "source": [
    "csrt_.shape"
   ]
  },
  {
   "cell_type": "code",
   "execution_count": 9,
   "metadata": {},
   "outputs": [],
   "source": [
    "csrt_.to_csv('./csrt.csv')"
   ]
  },
  {
   "cell_type": "markdown",
   "metadata": {},
   "source": [
    "## KCF Tracker"
   ]
  },
  {
   "cell_type": "code",
   "execution_count": 10,
   "metadata": {},
   "outputs": [
    {
     "name": "stdout",
     "output_type": "stream",
     "text": [
      "False : 46\n"
     ]
    }
   ],
   "source": [
    "#Video Capture\n",
    "cap = cv2.VideoCapture('./img/%04d.jpg')\n",
    "# cap.set(cv2.CAP_PROP_FPS, 200)\n",
    "#Trackerのインスタンス生成\n",
    "KCF = cv2.TrackerKCF_create()\n",
    "\n",
    "X_kcf = []\n",
    "y_kcf = []\n",
    "w_kcf = []\n",
    "h_kcf = []\n",
    "\n",
    "BB_KCF = None\n",
    "count = 0\n",
    "\n",
    "while True:\n",
    "    \n",
    "    try:\n",
    "        ok, frame = cap.read()\n",
    "        (H, W) = frame[:2]\n",
    "        \n",
    "# BoundingBoxの初期値(Ground-Truth)\n",
    "\n",
    "        BB_KCF = (227,207,122,99)\n",
    "\n",
    "\n",
    "        KCF.init(frame, BB_KCF)\n",
    "                \n",
    "        if BB_KCF is not None:\n",
    "            (success1, box) = KCF.update(frame)\n",
    "        \n",
    "            if success1:\n",
    "                (x, y, w, h) = [int(v) for v in box]\n",
    "                cv2.rectangle(frame, (x, y), (x + w, y + h),(255, 0, 0), 2)  #Blue\n",
    "                X_kcf.append(x)\n",
    "                y_kcf.append(y)\n",
    "                w_kcf.append(w)\n",
    "                h_kcf.append(h)\n",
    "            else:\n",
    "                count += 1\n",
    "                X_kcf.append(0)\n",
    "                y_kcf.append(0)\n",
    "                w_kcf.append(0)\n",
    "                h_kcf.append(0)\n",
    "                \n",
    "        cv2.imshow(\"Frame\",frame)\n",
    "        \n",
    "        if cv2.waitKey(10) == ord('q'):break\n",
    "    except:\n",
    "        break        \n",
    "\n",
    "cv2.destroyAllWindows()\n",
    "cv2.waitKey(1)\n",
    "kcf = pd.DataFrame({'x': X_kcf, 'y':y_kcf,'w':w_kcf,'h':h_kcf})\n",
    "print(\"False : \"+ str(count))"
   ]
  },
  {
   "cell_type": "code",
   "execution_count": 11,
   "metadata": {},
   "outputs": [
    {
     "data": {
      "text/html": [
       "<div>\n",
       "<style scoped>\n",
       "    .dataframe tbody tr th:only-of-type {\n",
       "        vertical-align: middle;\n",
       "    }\n",
       "\n",
       "    .dataframe tbody tr th {\n",
       "        vertical-align: top;\n",
       "    }\n",
       "\n",
       "    .dataframe thead th {\n",
       "        text-align: right;\n",
       "    }\n",
       "</style>\n",
       "<table border=\"1\" class=\"dataframe\">\n",
       "  <thead>\n",
       "    <tr style=\"text-align: right;\">\n",
       "      <th></th>\n",
       "      <th>x1</th>\n",
       "      <th>y1</th>\n",
       "      <th>x2</th>\n",
       "      <th>y2</th>\n",
       "    </tr>\n",
       "  </thead>\n",
       "  <tbody>\n",
       "    <tr>\n",
       "      <th>0</th>\n",
       "      <td>227</td>\n",
       "      <td>207</td>\n",
       "      <td>349</td>\n",
       "      <td>306</td>\n",
       "    </tr>\n",
       "    <tr>\n",
       "      <th>1</th>\n",
       "      <td>239</td>\n",
       "      <td>208</td>\n",
       "      <td>361</td>\n",
       "      <td>307</td>\n",
       "    </tr>\n",
       "    <tr>\n",
       "      <th>2</th>\n",
       "      <td>253</td>\n",
       "      <td>213</td>\n",
       "      <td>375</td>\n",
       "      <td>312</td>\n",
       "    </tr>\n",
       "    <tr>\n",
       "      <th>3</th>\n",
       "      <td>257</td>\n",
       "      <td>220</td>\n",
       "      <td>379</td>\n",
       "      <td>319</td>\n",
       "    </tr>\n",
       "    <tr>\n",
       "      <th>4</th>\n",
       "      <td>257</td>\n",
       "      <td>229</td>\n",
       "      <td>379</td>\n",
       "      <td>328</td>\n",
       "    </tr>\n",
       "  </tbody>\n",
       "</table>\n",
       "</div>"
      ],
      "text/plain": [
       "    x1   y1   x2   y2\n",
       "0  227  207  349  306\n",
       "1  239  208  361  307\n",
       "2  253  213  375  312\n",
       "3  257  220  379  319\n",
       "4  257  229  379  328"
      ]
     },
     "execution_count": 11,
     "metadata": {},
     "output_type": "execute_result"
    }
   ],
   "source": [
    "kcf_ = pd.DataFrame()\n",
    "kcf_['x1'] = kcf['x']\n",
    "kcf_['y1'] = kcf['y']\n",
    "kcf_['x2'] = kcf['w'] + kcf['x']\n",
    "kcf_['y2'] = kcf['h'] + kcf['y']\n",
    "kcf_.head()"
   ]
  },
  {
   "cell_type": "code",
   "execution_count": 12,
   "metadata": {},
   "outputs": [
    {
     "data": {
      "text/plain": [
       "(585, 4)"
      ]
     },
     "execution_count": 12,
     "metadata": {},
     "output_type": "execute_result"
    }
   ],
   "source": [
    "kcf.shape"
   ]
  },
  {
   "cell_type": "code",
   "execution_count": 13,
   "metadata": {},
   "outputs": [],
   "source": [
    "kcf_.to_csv('./kcf.csv')"
   ]
  },
  {
   "cell_type": "markdown",
   "metadata": {},
   "source": [
    "## Boosting Tracker"
   ]
  },
  {
   "cell_type": "code",
   "execution_count": 14,
   "metadata": {},
   "outputs": [
    {
     "name": "stdout",
     "output_type": "stream",
     "text": [
      "False : 0\n"
     ]
    }
   ],
   "source": [
    "#Video Capture\n",
    "cap = cv2.VideoCapture('./img/%04d.jpg')\n",
    "#Trackerのインスタンス生成\n",
    "Boosting = cv2.TrackerBoosting_create()\n",
    "\n",
    "X_boosting = []\n",
    "y_boosting = []\n",
    "w_boosting = []\n",
    "h_boosting = []\n",
    "\n",
    "BB_Boosting = None\n",
    "count = 0\n",
    "\n",
    "while True:\n",
    "    \n",
    "    try:\n",
    "        ok, frame = cap.read()\n",
    "        (H, W) = frame[:2]\n",
    "        \n",
    "# BoundingBoxの初期値(Ground-Truth)\n",
    "\n",
    "        BB_Boosting = (227,207,122,99)\n",
    "\n",
    "\n",
    "        Boosting.init(frame, BB_Boosting)\n",
    "                \n",
    "        if BB_Boosting is not None:\n",
    "            (success2, box) = Boosting.update(frame)\n",
    "        \n",
    "            if success2:\n",
    "                (x, y, w, h) = [int(v) for v in box]\n",
    "                cv2.rectangle(frame, (x, y), (x + w, y + h),(0, 0, 255), 2) #Red\n",
    "                X_boosting.append(x)\n",
    "                y_boosting.append(y)\n",
    "                w_boosting.append(w)\n",
    "                h_boosting.append(h)\n",
    "            else:\n",
    "                count += 1\n",
    "                X_boosting.append(0)\n",
    "                y_boosting.append(0)\n",
    "                w_boosting.append(0)\n",
    "                h_boosting.append(0)\n",
    "                \n",
    "        cv2.imshow(\"Frame\",frame)\n",
    "        \n",
    "        if cv2.waitKey(10) == ord('q'):break\n",
    "    except:\n",
    "        break        \n",
    "\n",
    "cv2.destroyAllWindows()\n",
    "cv2.waitKey(1)\n",
    "boosting = pd.DataFrame({'x': X_boosting, 'y':y_boosting,'w':w_boosting,'h':h_boosting})\n",
    "print(\"False : \"+ str(count))"
   ]
  },
  {
   "cell_type": "code",
   "execution_count": 15,
   "metadata": {},
   "outputs": [
    {
     "data": {
      "text/html": [
       "<div>\n",
       "<style scoped>\n",
       "    .dataframe tbody tr th:only-of-type {\n",
       "        vertical-align: middle;\n",
       "    }\n",
       "\n",
       "    .dataframe tbody tr th {\n",
       "        vertical-align: top;\n",
       "    }\n",
       "\n",
       "    .dataframe thead th {\n",
       "        text-align: right;\n",
       "    }\n",
       "</style>\n",
       "<table border=\"1\" class=\"dataframe\">\n",
       "  <thead>\n",
       "    <tr style=\"text-align: right;\">\n",
       "      <th></th>\n",
       "      <th>x1</th>\n",
       "      <th>y1</th>\n",
       "      <th>x2</th>\n",
       "      <th>y2</th>\n",
       "    </tr>\n",
       "  </thead>\n",
       "  <tbody>\n",
       "    <tr>\n",
       "      <th>0</th>\n",
       "      <td>227</td>\n",
       "      <td>207</td>\n",
       "      <td>349</td>\n",
       "      <td>306</td>\n",
       "    </tr>\n",
       "    <tr>\n",
       "      <th>1</th>\n",
       "      <td>242</td>\n",
       "      <td>208</td>\n",
       "      <td>364</td>\n",
       "      <td>307</td>\n",
       "    </tr>\n",
       "    <tr>\n",
       "      <th>2</th>\n",
       "      <td>256</td>\n",
       "      <td>213</td>\n",
       "      <td>378</td>\n",
       "      <td>312</td>\n",
       "    </tr>\n",
       "    <tr>\n",
       "      <th>3</th>\n",
       "      <td>259</td>\n",
       "      <td>222</td>\n",
       "      <td>381</td>\n",
       "      <td>321</td>\n",
       "    </tr>\n",
       "    <tr>\n",
       "      <th>4</th>\n",
       "      <td>259</td>\n",
       "      <td>231</td>\n",
       "      <td>381</td>\n",
       "      <td>330</td>\n",
       "    </tr>\n",
       "  </tbody>\n",
       "</table>\n",
       "</div>"
      ],
      "text/plain": [
       "    x1   y1   x2   y2\n",
       "0  227  207  349  306\n",
       "1  242  208  364  307\n",
       "2  256  213  378  312\n",
       "3  259  222  381  321\n",
       "4  259  231  381  330"
      ]
     },
     "execution_count": 15,
     "metadata": {},
     "output_type": "execute_result"
    }
   ],
   "source": [
    "boosting_ = pd.DataFrame()\n",
    "boosting_['x1'] = boosting['x']\n",
    "boosting_['y1'] = boosting['y']\n",
    "boosting_['x2'] = boosting['w'] + boosting['x']\n",
    "boosting_['y2'] = boosting['h'] + boosting['y']\n",
    "boosting_.head()"
   ]
  },
  {
   "cell_type": "code",
   "execution_count": 16,
   "metadata": {},
   "outputs": [
    {
     "data": {
      "text/plain": [
       "(585, 4)"
      ]
     },
     "execution_count": 16,
     "metadata": {},
     "output_type": "execute_result"
    }
   ],
   "source": [
    "boosting_.shape"
   ]
  },
  {
   "cell_type": "code",
   "execution_count": 17,
   "metadata": {},
   "outputs": [],
   "source": [
    "boosting_.to_csv('./boosting.csv')"
   ]
  },
  {
   "cell_type": "markdown",
   "metadata": {},
   "source": [
    "## MedianFlow Tracker"
   ]
  },
  {
   "cell_type": "code",
   "execution_count": 18,
   "metadata": {},
   "outputs": [
    {
     "name": "stdout",
     "output_type": "stream",
     "text": [
      "False : 5\n"
     ]
    }
   ],
   "source": [
    "cap = cv2.VideoCapture('./img/%04d.jpg')\n",
    "#Trackerのインスタンス生成\n",
    "MF = cv2.TrackerMedianFlow_create()\n",
    "\n",
    "X_mf = []\n",
    "y_mf = []\n",
    "w_mf = []\n",
    "h_mf = []\n",
    "\n",
    "BB_mf = None\n",
    "count = 0\n",
    "\n",
    "while True:\n",
    "    \n",
    "    try:\n",
    "        ok, frame = cap.read()\n",
    "        (H, W) = frame[:2]\n",
    "        \n",
    "# BoundingBoxの初期値(Ground-Truth)\n",
    "\n",
    "        BB_mf = (227,207,122,99)\n",
    "\n",
    "\n",
    "        MF.init(frame, BB_mf)\n",
    "                \n",
    "        if BB_mf is not None:\n",
    "            (success3, box) = MF.update(frame)\n",
    "        \n",
    "            if success3:\n",
    "                (x, y, w, h) = [int(v) for v in box]\n",
    "                cv2.rectangle(frame, (x, y), (x + w, y + h),(255, 255, 0), 2) #LightBlue\n",
    "                X_mf.append(x)\n",
    "                y_mf.append(y)\n",
    "                w_mf.append(w)\n",
    "                h_mf.append(h)\n",
    "            else:\n",
    "                count += 1\n",
    "                X_mf.append(0)\n",
    "                y_mf.append(0)\n",
    "                w_mf.append(0)\n",
    "                h_mf.append(0)\n",
    "                \n",
    "        cv2.imshow(\"Frame\",frame)\n",
    "        \n",
    "        if cv2.waitKey(10) == ord('q'):break\n",
    "    except:\n",
    "        break        \n",
    "\n",
    "cv2.destroyAllWindows()\n",
    "cv2.waitKey(1)\n",
    "mf = pd.DataFrame({'x': X_mf, 'y':y_mf,'w':w_mf,'h':h_mf})\n",
    "print(\"False : \"+ str(count))"
   ]
  },
  {
   "cell_type": "code",
   "execution_count": 19,
   "metadata": {},
   "outputs": [
    {
     "data": {
      "text/html": [
       "<div>\n",
       "<style scoped>\n",
       "    .dataframe tbody tr th:only-of-type {\n",
       "        vertical-align: middle;\n",
       "    }\n",
       "\n",
       "    .dataframe tbody tr th {\n",
       "        vertical-align: top;\n",
       "    }\n",
       "\n",
       "    .dataframe thead th {\n",
       "        text-align: right;\n",
       "    }\n",
       "</style>\n",
       "<table border=\"1\" class=\"dataframe\">\n",
       "  <thead>\n",
       "    <tr style=\"text-align: right;\">\n",
       "      <th></th>\n",
       "      <th>x1</th>\n",
       "      <th>y1</th>\n",
       "      <th>x2</th>\n",
       "      <th>y2</th>\n",
       "    </tr>\n",
       "  </thead>\n",
       "  <tbody>\n",
       "    <tr>\n",
       "      <th>0</th>\n",
       "      <td>227</td>\n",
       "      <td>207</td>\n",
       "      <td>349</td>\n",
       "      <td>306</td>\n",
       "    </tr>\n",
       "    <tr>\n",
       "      <th>1</th>\n",
       "      <td>240</td>\n",
       "      <td>208</td>\n",
       "      <td>362</td>\n",
       "      <td>307</td>\n",
       "    </tr>\n",
       "    <tr>\n",
       "      <th>2</th>\n",
       "      <td>255</td>\n",
       "      <td>212</td>\n",
       "      <td>377</td>\n",
       "      <td>311</td>\n",
       "    </tr>\n",
       "    <tr>\n",
       "      <th>3</th>\n",
       "      <td>259</td>\n",
       "      <td>221</td>\n",
       "      <td>382</td>\n",
       "      <td>320</td>\n",
       "    </tr>\n",
       "    <tr>\n",
       "      <th>4</th>\n",
       "      <td>258</td>\n",
       "      <td>230</td>\n",
       "      <td>381</td>\n",
       "      <td>330</td>\n",
       "    </tr>\n",
       "  </tbody>\n",
       "</table>\n",
       "</div>"
      ],
      "text/plain": [
       "    x1   y1   x2   y2\n",
       "0  227  207  349  306\n",
       "1  240  208  362  307\n",
       "2  255  212  377  311\n",
       "3  259  221  382  320\n",
       "4  258  230  381  330"
      ]
     },
     "execution_count": 19,
     "metadata": {},
     "output_type": "execute_result"
    }
   ],
   "source": [
    "mf_ = pd.DataFrame()\n",
    "mf_['x1'] = mf['x']\n",
    "mf_['y1'] = mf['y']\n",
    "mf_['x2'] = mf['w'] + mf['x']\n",
    "mf_['y2'] = mf['h'] + mf['y']\n",
    "mf_.head()"
   ]
  },
  {
   "cell_type": "code",
   "execution_count": 20,
   "metadata": {},
   "outputs": [
    {
     "data": {
      "text/plain": [
       "(585, 4)"
      ]
     },
     "execution_count": 20,
     "metadata": {},
     "output_type": "execute_result"
    }
   ],
   "source": [
    "boosting_.shape"
   ]
  },
  {
   "cell_type": "code",
   "execution_count": 21,
   "metadata": {},
   "outputs": [],
   "source": [
    "mf_.to_csv('./medianflow.csv')"
   ]
  },
  {
   "cell_type": "markdown",
   "metadata": {},
   "source": [
    "## MIL(Multiple Instance Learning) Tracker"
   ]
  },
  {
   "cell_type": "code",
   "execution_count": 22,
   "metadata": {},
   "outputs": [
    {
     "name": "stdout",
     "output_type": "stream",
     "text": [
      "False : 0\n"
     ]
    }
   ],
   "source": [
    "cap = cv2.VideoCapture('./img/%04d.jpg')\n",
    "#Trackerのインスタンス生成\n",
    "MIL = cv2.TrackerMIL_create()\n",
    "\n",
    "X_mil = []\n",
    "y_mil = []\n",
    "w_mil = []\n",
    "h_mil = []\n",
    "\n",
    "BB_mil = None\n",
    "count = 0\n",
    "\n",
    "while True:\n",
    "    \n",
    "    try:\n",
    "        ok, frame = cap.read()\n",
    "        (H, W) = frame[:2]\n",
    "        \n",
    "# BoundingBoxの初期値(Ground-Truth)\n",
    "\n",
    "        BB_mil = (227,207,122,99)\n",
    "\n",
    "\n",
    "        MIL.init(frame, BB_mil)\n",
    "                \n",
    "        if BB_mil is not None:\n",
    "            (success4, box) = MIL.update(frame)\n",
    "        \n",
    "            if success4:\n",
    "                (x, y, w, h) = [int(v) for v in box]\n",
    "                cv2.rectangle(frame, (x, y), (x + w, y + h),(0, 255, 255), 2) #LightBlue\n",
    "                X_mil.append(x)\n",
    "                y_mil.append(y)\n",
    "                w_mil.append(w)\n",
    "                h_mil.append(h)\n",
    "            else:\n",
    "                count += 1\n",
    "                X_mil.append(0)\n",
    "                y_mil.append(0)\n",
    "                w_mil.append(0)\n",
    "                h_mil.append(0)\n",
    "                \n",
    "        cv2.imshow(\"Frame\",frame)\n",
    "        \n",
    "        if cv2.waitKey(10) == ord('q'):break\n",
    "    except:\n",
    "        break        \n",
    "\n",
    "cv2.destroyAllWindows()\n",
    "cv2.waitKey(1)\n",
    "mil = pd.DataFrame({'x': X_mil, 'y':y_mil,'w':w_mil,'h':h_mil})\n",
    "print(\"False : \"+ str(count))"
   ]
  },
  {
   "cell_type": "code",
   "execution_count": 23,
   "metadata": {},
   "outputs": [
    {
     "data": {
      "text/html": [
       "<div>\n",
       "<style scoped>\n",
       "    .dataframe tbody tr th:only-of-type {\n",
       "        vertical-align: middle;\n",
       "    }\n",
       "\n",
       "    .dataframe tbody tr th {\n",
       "        vertical-align: top;\n",
       "    }\n",
       "\n",
       "    .dataframe thead th {\n",
       "        text-align: right;\n",
       "    }\n",
       "</style>\n",
       "<table border=\"1\" class=\"dataframe\">\n",
       "  <thead>\n",
       "    <tr style=\"text-align: right;\">\n",
       "      <th></th>\n",
       "      <th>x1</th>\n",
       "      <th>y1</th>\n",
       "      <th>x2</th>\n",
       "      <th>y2</th>\n",
       "    </tr>\n",
       "  </thead>\n",
       "  <tbody>\n",
       "    <tr>\n",
       "      <th>0</th>\n",
       "      <td>229</td>\n",
       "      <td>206</td>\n",
       "      <td>351</td>\n",
       "      <td>305</td>\n",
       "    </tr>\n",
       "    <tr>\n",
       "      <th>1</th>\n",
       "      <td>242</td>\n",
       "      <td>207</td>\n",
       "      <td>364</td>\n",
       "      <td>306</td>\n",
       "    </tr>\n",
       "    <tr>\n",
       "      <th>2</th>\n",
       "      <td>257</td>\n",
       "      <td>211</td>\n",
       "      <td>379</td>\n",
       "      <td>310</td>\n",
       "    </tr>\n",
       "    <tr>\n",
       "      <th>3</th>\n",
       "      <td>261</td>\n",
       "      <td>221</td>\n",
       "      <td>383</td>\n",
       "      <td>320</td>\n",
       "    </tr>\n",
       "    <tr>\n",
       "      <th>4</th>\n",
       "      <td>261</td>\n",
       "      <td>230</td>\n",
       "      <td>383</td>\n",
       "      <td>329</td>\n",
       "    </tr>\n",
       "  </tbody>\n",
       "</table>\n",
       "</div>"
      ],
      "text/plain": [
       "    x1   y1   x2   y2\n",
       "0  229  206  351  305\n",
       "1  242  207  364  306\n",
       "2  257  211  379  310\n",
       "3  261  221  383  320\n",
       "4  261  230  383  329"
      ]
     },
     "execution_count": 23,
     "metadata": {},
     "output_type": "execute_result"
    }
   ],
   "source": [
    "mil_ = pd.DataFrame()\n",
    "mil_['x1'] = mil['x']\n",
    "mil_['y1'] = mil['y']\n",
    "mil_['x2'] = mil['w'] + mil['x']\n",
    "mil_['y2'] = mil['h'] + mil['y']\n",
    "mil_.head()"
   ]
  },
  {
   "cell_type": "code",
   "execution_count": 24,
   "metadata": {},
   "outputs": [
    {
     "data": {
      "text/plain": [
       "(585, 4)"
      ]
     },
     "execution_count": 24,
     "metadata": {},
     "output_type": "execute_result"
    }
   ],
   "source": [
    "mil_.shape"
   ]
  },
  {
   "cell_type": "code",
   "execution_count": 25,
   "metadata": {},
   "outputs": [],
   "source": [
    "mil_.to_csv('./MIL.csv')"
   ]
  },
  {
   "cell_type": "markdown",
   "metadata": {},
   "source": [
    "## TLD (Tracking Learning Detection) Tracker"
   ]
  },
  {
   "cell_type": "code",
   "execution_count": 26,
   "metadata": {},
   "outputs": [
    {
     "name": "stdout",
     "output_type": "stream",
     "text": [
      "False : 0\n"
     ]
    }
   ],
   "source": [
    "cap = cv2.VideoCapture('./img/%04d.jpg')\n",
    "#Trackerのインスタンス生成\n",
    "TLD= cv2.TrackerTLD_create()\n",
    "\n",
    "X_tld = []\n",
    "y_tld = []\n",
    "w_tld = []\n",
    "h_tld = []\n",
    "\n",
    "BB_tld = None\n",
    "count = 0\n",
    "\n",
    "while True:\n",
    "    \n",
    "    try:\n",
    "        ok, frame = cap.read()\n",
    "        (H, W) = frame[:2]\n",
    "        \n",
    "# BoundingBoxの初期値(Ground-Truth)\n",
    "\n",
    "        BB_tld = (227,207,122,99)\n",
    "\n",
    "\n",
    "        TLD.init(frame, BB_tld)\n",
    "                \n",
    "        if BB_tld is not None:\n",
    "            (success5, box) = TLD.update(frame)\n",
    "        \n",
    "            if success5:\n",
    "                (x, y, w, h) = [int(v) for v in box]\n",
    "                cv2.rectangle(frame, (x, y), (x + w, y + h),(255, 0, 255), 2) #LightBlue\n",
    "                X_tld.append(x)\n",
    "                y_tld.append(y)\n",
    "                w_tld.append(w)\n",
    "                h_tld.append(h)\n",
    "            else:\n",
    "                count += 1\n",
    "                X_tld.append(0)\n",
    "                y_tld.append(0)\n",
    "                w_tld.append(0)\n",
    "                h_tld.append(0)\n",
    "                \n",
    "        cv2.imshow(\"Frame\",frame)\n",
    "        \n",
    "        if cv2.waitKey(10) == ord('q'):break\n",
    "    except:\n",
    "        break        \n",
    "\n",
    "cv2.destroyAllWindows()\n",
    "cv2.waitKey(1)\n",
    "tld = pd.DataFrame({'x': X_tld, 'y':y_tld,'w':w_tld,'h':h_tld})\n",
    "print(\"False : \"+ str(count))"
   ]
  },
  {
   "cell_type": "code",
   "execution_count": 27,
   "metadata": {},
   "outputs": [
    {
     "data": {
      "text/html": [
       "<div>\n",
       "<style scoped>\n",
       "    .dataframe tbody tr th:only-of-type {\n",
       "        vertical-align: middle;\n",
       "    }\n",
       "\n",
       "    .dataframe tbody tr th {\n",
       "        vertical-align: top;\n",
       "    }\n",
       "\n",
       "    .dataframe thead th {\n",
       "        text-align: right;\n",
       "    }\n",
       "</style>\n",
       "<table border=\"1\" class=\"dataframe\">\n",
       "  <thead>\n",
       "    <tr style=\"text-align: right;\">\n",
       "      <th></th>\n",
       "      <th>x1</th>\n",
       "      <th>y1</th>\n",
       "      <th>x2</th>\n",
       "      <th>y2</th>\n",
       "    </tr>\n",
       "  </thead>\n",
       "  <tbody>\n",
       "    <tr>\n",
       "      <th>0</th>\n",
       "      <td>206</td>\n",
       "      <td>196</td>\n",
       "      <td>329</td>\n",
       "      <td>299</td>\n",
       "    </tr>\n",
       "    <tr>\n",
       "      <th>1</th>\n",
       "      <td>220</td>\n",
       "      <td>197</td>\n",
       "      <td>344</td>\n",
       "      <td>300</td>\n",
       "    </tr>\n",
       "    <tr>\n",
       "      <th>2</th>\n",
       "      <td>237</td>\n",
       "      <td>206</td>\n",
       "      <td>360</td>\n",
       "      <td>309</td>\n",
       "    </tr>\n",
       "    <tr>\n",
       "      <th>3</th>\n",
       "      <td>240</td>\n",
       "      <td>215</td>\n",
       "      <td>364</td>\n",
       "      <td>318</td>\n",
       "    </tr>\n",
       "    <tr>\n",
       "      <th>4</th>\n",
       "      <td>239</td>\n",
       "      <td>224</td>\n",
       "      <td>363</td>\n",
       "      <td>327</td>\n",
       "    </tr>\n",
       "  </tbody>\n",
       "</table>\n",
       "</div>"
      ],
      "text/plain": [
       "    x1   y1   x2   y2\n",
       "0  206  196  329  299\n",
       "1  220  197  344  300\n",
       "2  237  206  360  309\n",
       "3  240  215  364  318\n",
       "4  239  224  363  327"
      ]
     },
     "execution_count": 27,
     "metadata": {},
     "output_type": "execute_result"
    }
   ],
   "source": [
    "tld_ = pd.DataFrame()\n",
    "tld_['x1'] = tld['x']\n",
    "tld_['y1'] = tld['y']\n",
    "tld_['x2'] = tld['w'] + tld['x']\n",
    "tld_['y2'] = tld['h'] + tld['y']\n",
    "tld_.head()"
   ]
  },
  {
   "cell_type": "code",
   "execution_count": 28,
   "metadata": {},
   "outputs": [
    {
     "data": {
      "text/plain": [
       "(585, 4)"
      ]
     },
     "execution_count": 28,
     "metadata": {},
     "output_type": "execute_result"
    }
   ],
   "source": [
    "tld_.shape"
   ]
  },
  {
   "cell_type": "code",
   "execution_count": 29,
   "metadata": {},
   "outputs": [],
   "source": [
    "tld_.to_csv('./TLD.csv')"
   ]
  }
 ],
 "metadata": {
  "kernelspec": {
   "display_name": "Python 3",
   "language": "python",
   "name": "python3"
  },
  "language_info": {
   "codemirror_mode": {
    "name": "ipython",
    "version": 3
   },
   "file_extension": ".py",
   "mimetype": "text/x-python",
   "name": "python",
   "nbconvert_exporter": "python",
   "pygments_lexer": "ipython3",
   "version": "3.7.3"
  },
  "toc": {
   "base_numbering": "",
   "nav_menu": {},
   "number_sections": false,
   "sideBar": true,
   "skip_h1_title": false,
   "title_cell": "Table of Contents",
   "title_sidebar": "Contents",
   "toc_cell": false,
   "toc_position": {
    "height": "530.308px",
    "left": "45px",
    "top": "110.429px",
    "width": "304.911px"
   },
   "toc_section_display": true,
   "toc_window_display": true
  }
 },
 "nbformat": 4,
 "nbformat_minor": 2
}
