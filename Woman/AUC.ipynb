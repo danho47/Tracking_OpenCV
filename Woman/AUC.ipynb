{
 "cells": [
  {
   "cell_type": "code",
   "execution_count": 1,
   "metadata": {},
   "outputs": [],
   "source": [
    "import pandas as pd\n",
    "import numpy as np\n",
    "import matplotlib.pyplot as plt\n",
    "from IPython import display\n",
    "import seaborn as sns\n",
    "%matplotlib inline"
   ]
  },
  {
   "cell_type": "code",
   "execution_count": 2,
   "metadata": {},
   "outputs": [],
   "source": [
    "def iou(a, b):\n",
    "    # get area of a\n",
    "    area_a = (a[2] - a[0]) * (a[3] - a[1])\n",
    "    # get area of b\n",
    "    area_b = (b[2] - b[0]) * (b[3] - b[1])\n",
    "    \n",
    "    # get left top x of IoU\n",
    "    iou_x1 = np.maximum(a[0], b[0])\n",
    "    # get left top y of IoU\n",
    "    iou_y1 = np.maximum(a[1], b[1])\n",
    "    # get right bottom of IoU\n",
    "    iou_x2 = np.minimum(a[2], b[2])\n",
    "    # get right bottom of IoU\n",
    "    iou_y2 = np.minimum(a[3], b[3])\n",
    "\n",
    "    # get width of IoU\n",
    "    iou_w = iou_x2 - iou_x1\n",
    "    # get height of IoU\n",
    "    iou_h = iou_y2 - iou_y1\n",
    "\n",
    "    # no overlap\n",
    "    if iou_w < 0 or iou_h < 0:\n",
    "        return 0.0\n",
    "    \n",
    "    # get area of IoU\n",
    "    area_iou = iou_w * iou_h\n",
    "    # get overlap ratio between IoU and all area\n",
    "    iou = area_iou / (area_a + area_b - area_iou)\n",
    "    union = (area_a + area_b - area_iou)\n",
    "\n",
    "    return iou"
   ]
  },
  {
   "cell_type": "code",
   "execution_count": 3,
   "metadata": {},
   "outputs": [
    {
     "data": {
      "text/html": [
       "<div>\n",
       "<style scoped>\n",
       "    .dataframe tbody tr th:only-of-type {\n",
       "        vertical-align: middle;\n",
       "    }\n",
       "\n",
       "    .dataframe tbody tr th {\n",
       "        vertical-align: top;\n",
       "    }\n",
       "\n",
       "    .dataframe thead th {\n",
       "        text-align: right;\n",
       "    }\n",
       "</style>\n",
       "<table border=\"1\" class=\"dataframe\">\n",
       "  <thead>\n",
       "    <tr style=\"text-align: right;\">\n",
       "      <th></th>\n",
       "      <th>0</th>\n",
       "      <th>1</th>\n",
       "      <th>2</th>\n",
       "      <th>3</th>\n",
       "    </tr>\n",
       "  </thead>\n",
       "  <tbody>\n",
       "    <tr>\n",
       "      <th>0</th>\n",
       "      <td>213</td>\n",
       "      <td>121</td>\n",
       "      <td>21</td>\n",
       "      <td>95</td>\n",
       "    </tr>\n",
       "    <tr>\n",
       "      <th>1</th>\n",
       "      <td>213</td>\n",
       "      <td>119</td>\n",
       "      <td>21</td>\n",
       "      <td>95</td>\n",
       "    </tr>\n",
       "    <tr>\n",
       "      <th>2</th>\n",
       "      <td>211</td>\n",
       "      <td>119</td>\n",
       "      <td>21</td>\n",
       "      <td>95</td>\n",
       "    </tr>\n",
       "    <tr>\n",
       "      <th>3</th>\n",
       "      <td>210</td>\n",
       "      <td>116</td>\n",
       "      <td>21</td>\n",
       "      <td>95</td>\n",
       "    </tr>\n",
       "    <tr>\n",
       "      <th>4</th>\n",
       "      <td>209</td>\n",
       "      <td>115</td>\n",
       "      <td>21</td>\n",
       "      <td>95</td>\n",
       "    </tr>\n",
       "  </tbody>\n",
       "</table>\n",
       "</div>"
      ],
      "text/plain": [
       "     0    1   2   3\n",
       "0  213  121  21  95\n",
       "1  213  119  21  95\n",
       "2  211  119  21  95\n",
       "3  210  116  21  95\n",
       "4  209  115  21  95"
      ]
     },
     "execution_count": 3,
     "metadata": {},
     "output_type": "execute_result"
    }
   ],
   "source": [
    "GT = pd.read_csv('./groundtruth.csv',header=None)\n",
    "GT = GT[0].str.split('\\t', expand = True)\n",
    "GT[0] = GT[0].astype(int)\n",
    "GT[1] = GT[1].astype(int)\n",
    "GT[2] = GT[2].astype(int)\n",
    "GT[3] = GT[3].astype(int)\n",
    "GT.head()"
   ]
  },
  {
   "cell_type": "code",
   "execution_count": 4,
   "metadata": {},
   "outputs": [
    {
     "data": {
      "text/html": [
       "<div>\n",
       "<style scoped>\n",
       "    .dataframe tbody tr th:only-of-type {\n",
       "        vertical-align: middle;\n",
       "    }\n",
       "\n",
       "    .dataframe tbody tr th {\n",
       "        vertical-align: top;\n",
       "    }\n",
       "\n",
       "    .dataframe thead th {\n",
       "        text-align: right;\n",
       "    }\n",
       "</style>\n",
       "<table border=\"1\" class=\"dataframe\">\n",
       "  <thead>\n",
       "    <tr style=\"text-align: right;\">\n",
       "      <th></th>\n",
       "      <th>x1</th>\n",
       "      <th>y1</th>\n",
       "      <th>x2</th>\n",
       "      <th>y2</th>\n",
       "    </tr>\n",
       "  </thead>\n",
       "  <tbody>\n",
       "    <tr>\n",
       "      <th>0</th>\n",
       "      <td>213</td>\n",
       "      <td>121</td>\n",
       "      <td>234</td>\n",
       "      <td>216</td>\n",
       "    </tr>\n",
       "    <tr>\n",
       "      <th>1</th>\n",
       "      <td>213</td>\n",
       "      <td>119</td>\n",
       "      <td>234</td>\n",
       "      <td>214</td>\n",
       "    </tr>\n",
       "    <tr>\n",
       "      <th>2</th>\n",
       "      <td>211</td>\n",
       "      <td>119</td>\n",
       "      <td>232</td>\n",
       "      <td>214</td>\n",
       "    </tr>\n",
       "    <tr>\n",
       "      <th>3</th>\n",
       "      <td>210</td>\n",
       "      <td>116</td>\n",
       "      <td>231</td>\n",
       "      <td>211</td>\n",
       "    </tr>\n",
       "    <tr>\n",
       "      <th>4</th>\n",
       "      <td>209</td>\n",
       "      <td>115</td>\n",
       "      <td>230</td>\n",
       "      <td>210</td>\n",
       "    </tr>\n",
       "  </tbody>\n",
       "</table>\n",
       "</div>"
      ],
      "text/plain": [
       "    x1   y1   x2   y2\n",
       "0  213  121  234  216\n",
       "1  213  119  234  214\n",
       "2  211  119  232  214\n",
       "3  210  116  231  211\n",
       "4  209  115  230  210"
      ]
     },
     "execution_count": 4,
     "metadata": {},
     "output_type": "execute_result"
    }
   ],
   "source": [
    "gt = pd.DataFrame()\n",
    "gt['x1'] = GT[0]\n",
    "gt['y1'] = GT[1]\n",
    "gt['x2'] = GT[2] + GT[0]\n",
    "gt['y2'] = GT[3] + GT[1]\n",
    "gt.head()"
   ]
  },
  {
   "cell_type": "code",
   "execution_count": 5,
   "metadata": {},
   "outputs": [],
   "source": [
    "csrt = pd.read_csv('./results/csrt.csv')\n",
    "kcf = pd.read_csv('./results/kcf.csv')\n",
    "boosting = pd.read_csv('./results/boosting.csv')\n",
    "mil = pd.read_csv('./results/MIL.csv')\n",
    "tld = pd.read_csv('./results/TLD.csv')\n",
    "mf = pd.read_csv('./results/medianflow.csv')"
   ]
  },
  {
   "cell_type": "code",
   "execution_count": 6,
   "metadata": {},
   "outputs": [],
   "source": [
    "def evaluate(tracker):\n",
    "    IOU = []\n",
    "    OL=[]\n",
    "    count = 0\n",
    "    for i in range(597):\n",
    "        A = np.array(tracker[i:i+1], dtype=np.float32)\n",
    "        A = A[0]\n",
    "        B = np.array(gt[i:i+1], dtype=np.float32)\n",
    "        B = B[0]\n",
    "        IoU = iou(A, B)\n",
    "        ol = overlap(A, B)\n",
    "        if ol == 0:\n",
    "            count += 1\n",
    "        \n",
    "        IOU.append(IoU)\n",
    "        OL.append(ol)\n",
    "    \n",
    "    return IOU,OL,count"
   ]
  },
  {
   "cell_type": "code",
   "execution_count": 8,
   "metadata": {},
   "outputs": [],
   "source": [
    "def overlap(a, b):\n",
    "    # get area of a\n",
    "    area_a = (a[2] - a[0]) * (a[3] - a[1])\n",
    "    # get area of b\n",
    "    area_b = (b[2] - b[0]) * (b[3] - b[1])\n",
    "    \n",
    "    # get left top x of IoU\n",
    "    iou_x1 = np.maximum(a[0], b[0])\n",
    "    # get left top y of IoU\n",
    "    iou_y1 = np.maximum(a[1], b[1])\n",
    "    # get right bottom of IoU\n",
    "    iou_x2 = np.minimum(a[2], b[2])\n",
    "    # get right bottom of IoU\n",
    "    iou_y2 = np.minimum(a[3], b[3])\n",
    "\n",
    "    # get width of IoU\n",
    "    iou_w = iou_x2 - iou_x1\n",
    "    # get height of IoU\n",
    "    iou_h = iou_y2 - iou_y1\n",
    "\n",
    "    # no overlap\n",
    "    if iou_w < 0 or iou_h < 0:\n",
    "        return 0.0\n",
    "    \n",
    "    # get area of IoU\n",
    "    area_iou = iou_w * iou_h\n",
    "    # get overlap ratio between IoU and all area\n",
    "#     iou = area_iou / (area_a + area_b - area_iou)\n",
    "#     union = (area_a + area_b - area_iou)\n",
    "\n",
    "    return area_iou"
   ]
  },
  {
   "cell_type": "code",
   "execution_count": 9,
   "metadata": {},
   "outputs": [],
   "source": [
    "IoU_csrt = []\n",
    "ol_csrt = []\n",
    "count_csrt = 0\n",
    "IoU_csrt, ol_csrt, count_csrt = evaluate(csrt)\n",
    "time = [int(v) for v in range(597)]"
   ]
  },
  {
   "cell_type": "code",
   "execution_count": 11,
   "metadata": {},
   "outputs": [
    {
     "name": "stdout",
     "output_type": "stream",
     "text": [
      "Robustness： 0.0\n",
      "mIoU: 0.7293794658315841\n"
     ]
    }
   ],
   "source": [
    "rob = count_csrt / len(gt)\n",
    "print('Robustness：',rob)\n",
    "mIoU = sum(IoU_csrt) / len(gt)\n",
    "print('mIoU:',mIoU)"
   ]
  },
  {
   "cell_type": "code",
   "execution_count": 34,
   "metadata": {},
   "outputs": [],
   "source": [
    "precision = []"
   ]
  },
  {
   "cell_type": "code",
   "execution_count": 35,
   "metadata": {},
   "outputs": [
    {
     "name": "stdout",
     "output_type": "stream",
     "text": [
      "Recall： 1.0\n",
      "Precision： 100.0\n",
      "Recall： 1.0\n",
      "Precision： 100.0\n",
      "Recall： 0.9966499162479062\n",
      "Precision： 99.66499162479062\n",
      "Recall： 0.9363484087102177\n",
      "Precision： 93.63484087102178\n",
      "Recall： 0.932998324958124\n",
      "Precision： 93.2998324958124\n",
      "Recall： 0.931323283082077\n",
      "Precision： 93.1323283082077\n",
      "Recall： 0.9078726968174204\n",
      "Precision： 90.78726968174205\n",
      "Recall： 0.7068676716917923\n",
      "Precision： 70.68676716917923\n",
      "Recall： 0.3165829145728643\n",
      "Precision： 31.65829145728643\n",
      "Recall： 0.051926298157453935\n",
      "Precision： 5.192629815745393\n",
      "Recall： 0.0\n",
      "Precision： 0.0\n"
     ]
    }
   ],
   "source": [
    "th = [0.0,0.1,0.2,0.3,0.4,0.5,0.6,0.7,0.8,0.9,1.0]\n",
    "for j in th:\n",
    "    TP = []\n",
    "    FP = []\n",
    "    for i in range(597):\n",
    "        if IoU_csrt[i] > j:\n",
    "            TP.append(IoU_csrt[i])\n",
    "        elif IoU_csrt[i] < j:\n",
    "            FP.append(IoU_csrt[i])     \n",
    "    Recall = len(TP) / (597)\n",
    "    print('Recall：',Recall)\n",
    "    Precision = (len(TP) / (597-count_csrt))*100\n",
    "    print('Precision：', Precision)\n",
    "    precision.append(Precision)"
   ]
  },
  {
   "cell_type": "code",
   "execution_count": 36,
   "metadata": {},
   "outputs": [
    {
     "data": {
      "text/plain": [
       "[100.0,\n",
       " 100.0,\n",
       " 99.66499162479062,\n",
       " 93.63484087102178,\n",
       " 93.2998324958124,\n",
       " 93.1323283082077,\n",
       " 90.78726968174205,\n",
       " 70.68676716917923,\n",
       " 31.65829145728643,\n",
       " 5.192629815745393,\n",
       " 0.0]"
      ]
     },
     "execution_count": 36,
     "metadata": {},
     "output_type": "execute_result"
    }
   ],
   "source": [
    "precision"
   ]
  },
  {
   "cell_type": "code",
   "execution_count": 47,
   "metadata": {
    "scrolled": false
   },
   "outputs": [
    {
     "data": {
      "image/png": "[encoded data removed]",
      "text/plain": [
       "<Figure size 720x504 with 1 Axes>"
      ]
     },
     "metadata": {
      "needs_background": "light"
     },
     "output_type": "display_data"
    }
   ],
   "source": [
    "plt.figure(figsize=(10,7))\n",
    "plt.plot(th, precision, antialiased=True)\n",
    "plt.grid()\n",
    "plt.title('AUC')\n",
    "plt.xlabel('threshold')\n",
    "plt.ylabel('Precision[%]')\n",
    "plt.show()"
   ]
  },
  {
   "cell_type": "code",
   "execution_count": null,
   "metadata": {},
   "outputs": [],
   "source": []
  }
 ],
 "metadata": {
  "kernelspec": {
   "display_name": "Python 3",
   "language": "python",
   "name": "python3"
  },
  "language_info": {
   "codemirror_mode": {
    "name": "ipython",
    "version": 3
   },
   "file_extension": ".py",
   "mimetype": "text/x-python",
   "name": "python",
   "nbconvert_exporter": "python",
   "pygments_lexer": "ipython3",
   "version": "3.7.3"
  },
  "toc": {
   "base_numbering": 1,
   "nav_menu": {},
   "number_sections": true,
   "sideBar": true,
   "skip_h1_title": false,
   "title_cell": "Table of Contents",
   "title_sidebar": "Contents",
   "toc_cell": false,
   "toc_position": {},
   "toc_section_display": true,
   "toc_window_display": false
  }
 },
 "nbformat": 4,
 "nbformat_minor": 2
}
